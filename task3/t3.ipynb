{
 "cells": [
  {
   "cell_type": "code",
   "execution_count": 3,
   "id": "19b6267c",
   "metadata": {},
   "outputs": [
    {
     "name": "stdout",
     "output_type": "stream",
     "text": [
      "Using device: cuda\n",
      "Files already downloaded and verified\n",
      "Files already downloaded and verified\n",
      "--- Loading existing teacher from ./best_teacher_vgg16_cifar100.pth ---\n"
     ]
    },
    {
     "name": "stderr",
     "output_type": "stream",
     "text": [
      "C:\\Users\\xylic\\AppData\\Local\\Temp\\ipykernel_18428\\3824019779.py:51: FutureWarning: You are using `torch.load` with `weights_only=False` (the current default value), which uses the default pickle module implicitly. It is possible to construct malicious pickle data which will execute arbitrary code during unpickling (See https://github.com/pytorch/pytorch/blob/main/SECURITY.md#untrusted-models for more details). In a future release, the default value for `weights_only` will be flipped to `True`. This limits the functions that could be executed during unpickling. Arbitrary objects will no longer be allowed to be loaded via this mode unless they are explicitly allowlisted by the user via `torch.serialization.add_safe_globals`. We recommend you start setting `weights_only=True` for any use case where you don't have full control of the loaded file. Please open an issue on GitHub for any issues related to this experimental feature.\n",
      "  teacher_model.load_state_dict(torch.load(teacher_save_path))\n"
     ]
    },
    {
     "name": "stdout",
     "output_type": "stream",
     "text": [
      "Using teacher with accuracy: 69.01%\n",
      "\n",
      "--- Running Experiment: LS ---\n"
     ]
    },
    {
     "name": "stderr",
     "output_type": "stream",
     "text": [
      "                                                                                    \r"
     ]
    },
    {
     "name": "stdout",
     "output_type": "stream",
     "text": [
      "Epoch 1/40, Accuracy: 2.05%\n",
      "New best accuracy: 2.05%. Saving student model to ./best_student_ls.pth\n"
     ]
    },
    {
     "name": "stderr",
     "output_type": "stream",
     "text": [
      "                                                                                    \r"
     ]
    },
    {
     "name": "stdout",
     "output_type": "stream",
     "text": [
      "Epoch 2/40, Accuracy: 6.36%\n",
      "New best accuracy: 6.36%. Saving student model to ./best_student_ls.pth\n"
     ]
    },
    {
     "name": "stderr",
     "output_type": "stream",
     "text": [
      "                                                                                    \r"
     ]
    },
    {
     "name": "stdout",
     "output_type": "stream",
     "text": [
      "Epoch 3/40, Accuracy: 10.02%\n",
      "New best accuracy: 10.02%. Saving student model to ./best_student_ls.pth\n"
     ]
    },
    {
     "name": "stderr",
     "output_type": "stream",
     "text": [
      "                                                                                    \r"
     ]
    },
    {
     "name": "stdout",
     "output_type": "stream",
     "text": [
      "Epoch 4/40, Accuracy: 14.77%\n",
      "New best accuracy: 14.77%. Saving student model to ./best_student_ls.pth\n"
     ]
    },
    {
     "name": "stderr",
     "output_type": "stream",
     "text": [
      "                                                                                    \r"
     ]
    },
    {
     "name": "stdout",
     "output_type": "stream",
     "text": [
      "Epoch 5/40, Accuracy: 17.91%\n",
      "New best accuracy: 17.91%. Saving student model to ./best_student_ls.pth\n"
     ]
    },
    {
     "name": "stderr",
     "output_type": "stream",
     "text": [
      "                                                                                    \r"
     ]
    },
    {
     "name": "stdout",
     "output_type": "stream",
     "text": [
      "Epoch 6/40, Accuracy: 22.77%\n",
      "New best accuracy: 22.77%. Saving student model to ./best_student_ls.pth\n"
     ]
    },
    {
     "name": "stderr",
     "output_type": "stream",
     "text": [
      "                                                                                    \r"
     ]
    },
    {
     "name": "stdout",
     "output_type": "stream",
     "text": [
      "Epoch 7/40, Accuracy: 25.58%\n",
      "New best accuracy: 25.58%. Saving student model to ./best_student_ls.pth\n"
     ]
    },
    {
     "name": "stderr",
     "output_type": "stream",
     "text": [
      "                                                                                    \r"
     ]
    },
    {
     "name": "stdout",
     "output_type": "stream",
     "text": [
      "Epoch 8/40, Accuracy: 28.70%\n",
      "New best accuracy: 28.70%. Saving student model to ./best_student_ls.pth\n"
     ]
    },
    {
     "name": "stderr",
     "output_type": "stream",
     "text": [
      "                                                                                    \r"
     ]
    },
    {
     "name": "stdout",
     "output_type": "stream",
     "text": [
      "Epoch 9/40, Accuracy: 31.38%\n",
      "New best accuracy: 31.38%. Saving student model to ./best_student_ls.pth\n"
     ]
    },
    {
     "name": "stderr",
     "output_type": "stream",
     "text": [
      "                                                                                     \r"
     ]
    },
    {
     "name": "stdout",
     "output_type": "stream",
     "text": [
      "Epoch 10/40, Accuracy: 34.85%\n",
      "New best accuracy: 34.85%. Saving student model to ./best_student_ls.pth\n"
     ]
    },
    {
     "name": "stderr",
     "output_type": "stream",
     "text": [
      "                                                                                     \r"
     ]
    },
    {
     "name": "stdout",
     "output_type": "stream",
     "text": [
      "Epoch 11/40, Accuracy: 38.40%\n",
      "New best accuracy: 38.40%. Saving student model to ./best_student_ls.pth\n"
     ]
    },
    {
     "name": "stderr",
     "output_type": "stream",
     "text": [
      "                                                                                     \r"
     ]
    },
    {
     "name": "stdout",
     "output_type": "stream",
     "text": [
      "Epoch 12/40, Accuracy: 38.85%\n",
      "New best accuracy: 38.85%. Saving student model to ./best_student_ls.pth\n"
     ]
    },
    {
     "name": "stderr",
     "output_type": "stream",
     "text": [
      "                                                                                     \r"
     ]
    },
    {
     "name": "stdout",
     "output_type": "stream",
     "text": [
      "Epoch 13/40, Accuracy: 42.06%\n",
      "New best accuracy: 42.06%. Saving student model to ./best_student_ls.pth\n"
     ]
    },
    {
     "name": "stderr",
     "output_type": "stream",
     "text": [
      "                                                                                     \r"
     ]
    },
    {
     "name": "stdout",
     "output_type": "stream",
     "text": [
      "Epoch 14/40, Accuracy: 45.01%\n",
      "New best accuracy: 45.01%. Saving student model to ./best_student_ls.pth\n"
     ]
    },
    {
     "name": "stderr",
     "output_type": "stream",
     "text": [
      "                                                                                     \r"
     ]
    },
    {
     "name": "stdout",
     "output_type": "stream",
     "text": [
      "Epoch 15/40, Accuracy: 45.32%\n",
      "New best accuracy: 45.32%. Saving student model to ./best_student_ls.pth\n"
     ]
    },
    {
     "name": "stderr",
     "output_type": "stream",
     "text": [
      "                                                                                     \r"
     ]
    },
    {
     "name": "stdout",
     "output_type": "stream",
     "text": [
      "Epoch 16/40, Accuracy: 46.97%\n",
      "New best accuracy: 46.97%. Saving student model to ./best_student_ls.pth\n"
     ]
    },
    {
     "name": "stderr",
     "output_type": "stream",
     "text": [
      "                                                                                     \r"
     ]
    },
    {
     "name": "stdout",
     "output_type": "stream",
     "text": [
      "Epoch 17/40, Accuracy: 49.46%\n",
      "New best accuracy: 49.46%. Saving student model to ./best_student_ls.pth\n"
     ]
    },
    {
     "name": "stderr",
     "output_type": "stream",
     "text": [
      "                                                                                     \r"
     ]
    },
    {
     "name": "stdout",
     "output_type": "stream",
     "text": [
      "Epoch 18/40, Accuracy: 50.53%\n",
      "New best accuracy: 50.53%. Saving student model to ./best_student_ls.pth\n"
     ]
    },
    {
     "name": "stderr",
     "output_type": "stream",
     "text": [
      "                                                                                     \r"
     ]
    },
    {
     "name": "stdout",
     "output_type": "stream",
     "text": [
      "Epoch 19/40, Accuracy: 52.37%\n",
      "New best accuracy: 52.37%. Saving student model to ./best_student_ls.pth\n"
     ]
    },
    {
     "name": "stderr",
     "output_type": "stream",
     "text": [
      "                                                                                     \r"
     ]
    },
    {
     "name": "stdout",
     "output_type": "stream",
     "text": [
      "Epoch 20/40, Accuracy: 53.68%\n",
      "New best accuracy: 53.68%. Saving student model to ./best_student_ls.pth\n"
     ]
    },
    {
     "name": "stderr",
     "output_type": "stream",
     "text": [
      "                                                                                     \r"
     ]
    },
    {
     "name": "stdout",
     "output_type": "stream",
     "text": [
      "Epoch 21/40, Accuracy: 54.18%\n",
      "New best accuracy: 54.18%. Saving student model to ./best_student_ls.pth\n"
     ]
    },
    {
     "name": "stderr",
     "output_type": "stream",
     "text": [
      "                                                                                     \r"
     ]
    },
    {
     "name": "stdout",
     "output_type": "stream",
     "text": [
      "Epoch 22/40, Accuracy: 55.44%\n",
      "New best accuracy: 55.44%. Saving student model to ./best_student_ls.pth\n"
     ]
    },
    {
     "name": "stderr",
     "output_type": "stream",
     "text": [
      "                                                                                     \r"
     ]
    },
    {
     "name": "stdout",
     "output_type": "stream",
     "text": [
      "Epoch 23/40, Accuracy: 56.11%\n",
      "New best accuracy: 56.11%. Saving student model to ./best_student_ls.pth\n"
     ]
    },
    {
     "name": "stderr",
     "output_type": "stream",
     "text": [
      "                                                                                     \r"
     ]
    },
    {
     "name": "stdout",
     "output_type": "stream",
     "text": [
      "Epoch 24/40, Accuracy: 56.07%\n"
     ]
    },
    {
     "name": "stderr",
     "output_type": "stream",
     "text": [
      "                                                                                     \r"
     ]
    },
    {
     "name": "stdout",
     "output_type": "stream",
     "text": [
      "Epoch 25/40, Accuracy: 58.96%\n",
      "New best accuracy: 58.96%. Saving student model to ./best_student_ls.pth\n"
     ]
    },
    {
     "name": "stderr",
     "output_type": "stream",
     "text": [
      "                                                                                     \r"
     ]
    },
    {
     "name": "stdout",
     "output_type": "stream",
     "text": [
      "Epoch 26/40, Accuracy: 59.53%\n",
      "New best accuracy: 59.53%. Saving student model to ./best_student_ls.pth\n"
     ]
    },
    {
     "name": "stderr",
     "output_type": "stream",
     "text": [
      "                                                                                     \r"
     ]
    },
    {
     "name": "stdout",
     "output_type": "stream",
     "text": [
      "Epoch 27/40, Accuracy: 60.36%\n",
      "New best accuracy: 60.36%. Saving student model to ./best_student_ls.pth\n"
     ]
    },
    {
     "name": "stderr",
     "output_type": "stream",
     "text": [
      "                                                                                     \r"
     ]
    },
    {
     "name": "stdout",
     "output_type": "stream",
     "text": [
      "Epoch 28/40, Accuracy: 61.31%\n",
      "New best accuracy: 61.31%. Saving student model to ./best_student_ls.pth\n"
     ]
    },
    {
     "name": "stderr",
     "output_type": "stream",
     "text": [
      "                                                                                     \r"
     ]
    },
    {
     "name": "stdout",
     "output_type": "stream",
     "text": [
      "Epoch 29/40, Accuracy: 61.86%\n",
      "New best accuracy: 61.86%. Saving student model to ./best_student_ls.pth\n"
     ]
    },
    {
     "name": "stderr",
     "output_type": "stream",
     "text": [
      "                                                                                     \r"
     ]
    },
    {
     "name": "stdout",
     "output_type": "stream",
     "text": [
      "Epoch 30/40, Accuracy: 62.42%\n",
      "New best accuracy: 62.42%. Saving student model to ./best_student_ls.pth\n"
     ]
    },
    {
     "name": "stderr",
     "output_type": "stream",
     "text": [
      "                                                                                     \r"
     ]
    },
    {
     "name": "stdout",
     "output_type": "stream",
     "text": [
      "Epoch 31/40, Accuracy: 62.45%\n",
      "New best accuracy: 62.45%. Saving student model to ./best_student_ls.pth\n"
     ]
    },
    {
     "name": "stderr",
     "output_type": "stream",
     "text": [
      "                                                                                     \r"
     ]
    },
    {
     "name": "stdout",
     "output_type": "stream",
     "text": [
      "Epoch 32/40, Accuracy: 63.10%\n",
      "New best accuracy: 63.10%. Saving student model to ./best_student_ls.pth\n"
     ]
    },
    {
     "name": "stderr",
     "output_type": "stream",
     "text": [
      "                                                                                     \r"
     ]
    },
    {
     "name": "stdout",
     "output_type": "stream",
     "text": [
      "Epoch 33/40, Accuracy: 63.76%\n",
      "New best accuracy: 63.76%. Saving student model to ./best_student_ls.pth\n"
     ]
    },
    {
     "name": "stderr",
     "output_type": "stream",
     "text": [
      "                                                                                     \r"
     ]
    },
    {
     "name": "stdout",
     "output_type": "stream",
     "text": [
      "Epoch 34/40, Accuracy: 64.04%\n",
      "New best accuracy: 64.04%. Saving student model to ./best_student_ls.pth\n"
     ]
    },
    {
     "name": "stderr",
     "output_type": "stream",
     "text": [
      "                                                                                     \r"
     ]
    },
    {
     "name": "stdout",
     "output_type": "stream",
     "text": [
      "Epoch 35/40, Accuracy: 63.97%\n"
     ]
    },
    {
     "name": "stderr",
     "output_type": "stream",
     "text": [
      "                                                                                     \r"
     ]
    },
    {
     "name": "stdout",
     "output_type": "stream",
     "text": [
      "Epoch 36/40, Accuracy: 64.56%\n",
      "New best accuracy: 64.56%. Saving student model to ./best_student_ls.pth\n"
     ]
    },
    {
     "name": "stderr",
     "output_type": "stream",
     "text": [
      "                                                                                     \r"
     ]
    },
    {
     "name": "stdout",
     "output_type": "stream",
     "text": [
      "Epoch 37/40, Accuracy: 64.68%\n",
      "New best accuracy: 64.68%. Saving student model to ./best_student_ls.pth\n"
     ]
    },
    {
     "name": "stderr",
     "output_type": "stream",
     "text": [
      "                                                                                     \r"
     ]
    },
    {
     "name": "stdout",
     "output_type": "stream",
     "text": [
      "Epoch 38/40, Accuracy: 65.04%\n",
      "New best accuracy: 65.04%. Saving student model to ./best_student_ls.pth\n"
     ]
    },
    {
     "name": "stderr",
     "output_type": "stream",
     "text": [
      "                                                                                     \r"
     ]
    },
    {
     "name": "stdout",
     "output_type": "stream",
     "text": [
      "Epoch 39/40, Accuracy: 65.04%\n"
     ]
    },
    {
     "name": "stderr",
     "output_type": "stream",
     "text": [
      "                                                                                     \r"
     ]
    },
    {
     "name": "stdout",
     "output_type": "stream",
     "text": [
      "Epoch 40/40, Accuracy: 64.84%\n",
      "Finished Training for LS. Best Accuracy: 65.04%\n",
      "\n",
      "--- Running Experiment: DKD ---\n"
     ]
    },
    {
     "name": "stderr",
     "output_type": "stream",
     "text": [
      "                                                                                      \r"
     ]
    },
    {
     "name": "stdout",
     "output_type": "stream",
     "text": [
      "Epoch 1/40, Accuracy: 1.00%\n",
      "New best accuracy: 1.00%. Saving student model to ./best_student_dkd.pth\n"
     ]
    },
    {
     "name": "stderr",
     "output_type": "stream",
     "text": [
      "                                                                                                \r"
     ]
    },
    {
     "name": "stdout",
     "output_type": "stream",
     "text": [
      "Epoch 2/40, Accuracy: 1.00%\n"
     ]
    },
    {
     "name": "stderr",
     "output_type": "stream",
     "text": [
      "                                                                                  \r"
     ]
    },
    {
     "name": "stdout",
     "output_type": "stream",
     "text": [
      "Epoch 3/40, Accuracy: 1.00%\n"
     ]
    },
    {
     "name": "stderr",
     "output_type": "stream",
     "text": [
      "                                                                                 \r"
     ]
    },
    {
     "ename": "KeyboardInterrupt",
     "evalue": "",
     "output_type": "error",
     "traceback": [
      "\u001b[1;31m---------------------------------------------------------------------------\u001b[0m",
      "\u001b[1;31mKeyboardInterrupt\u001b[0m                         Traceback (most recent call last)",
      "Cell \u001b[1;32mIn[3], line 148\u001b[0m\n\u001b[0;32m    145\u001b[0m STUDENT_EPOCHS \u001b[38;5;241m=\u001b[39m \u001b[38;5;241m40\u001b[39m\n\u001b[0;32m    147\u001b[0m results[\u001b[38;5;124m'\u001b[39m\u001b[38;5;124mls\u001b[39m\u001b[38;5;124m'\u001b[39m] \u001b[38;5;241m=\u001b[39m run_experiment(\u001b[38;5;124m'\u001b[39m\u001b[38;5;124mls\u001b[39m\u001b[38;5;124m'\u001b[39m, teacher_model, device, STUDENT_EPOCHS)\n\u001b[1;32m--> 148\u001b[0m results[\u001b[38;5;124m'\u001b[39m\u001b[38;5;124mdkd\u001b[39m\u001b[38;5;124m'\u001b[39m] \u001b[38;5;241m=\u001b[39m \u001b[43mrun_experiment\u001b[49m\u001b[43m(\u001b[49m\u001b[38;5;124;43m'\u001b[39;49m\u001b[38;5;124;43mdkd\u001b[39;49m\u001b[38;5;124;43m'\u001b[39;49m\u001b[43m,\u001b[49m\u001b[43m \u001b[49m\u001b[43mteacher_model\u001b[49m\u001b[43m,\u001b[49m\u001b[43m \u001b[49m\u001b[43mdevice\u001b[49m\u001b[43m,\u001b[49m\u001b[43m \u001b[49m\u001b[43mSTUDENT_EPOCHS\u001b[49m\u001b[43m)\u001b[49m\n\u001b[0;32m    150\u001b[0m \u001b[38;5;28;01mtry\u001b[39;00m:\n\u001b[0;32m    152\u001b[0m     lm_student \u001b[38;5;241m=\u001b[39m get_student_model()\n",
      "Cell \u001b[1;32mIn[3], line 127\u001b[0m, in \u001b[0;36mrun_experiment\u001b[1;34m(loss_type, teacher_model, device, num_epochs)\u001b[0m\n\u001b[0;32m    125\u001b[0m best_acc \u001b[38;5;241m=\u001b[39m \u001b[38;5;241m0.0\u001b[39m\n\u001b[0;32m    126\u001b[0m \u001b[38;5;28;01mfor\u001b[39;00m epoch \u001b[38;5;129;01min\u001b[39;00m \u001b[38;5;28mrange\u001b[39m(num_epochs):\n\u001b[1;32m--> 127\u001b[0m     \u001b[43mtrain_student\u001b[49m\u001b[43m(\u001b[49m\u001b[43mstudent_model\u001b[49m\u001b[43m,\u001b[49m\u001b[43m \u001b[49m\u001b[43mtrainloader\u001b[49m\u001b[43m,\u001b[49m\u001b[43m \u001b[49m\u001b[43moptimizer\u001b[49m\u001b[43m,\u001b[49m\u001b[43m \u001b[49m\u001b[43mepoch\u001b[49m\u001b[43m,\u001b[49m\u001b[43m \u001b[49m\u001b[43mloss_type\u001b[49m\u001b[43m,\u001b[49m\u001b[43m \u001b[49m\u001b[43mteacher_model\u001b[49m\u001b[43m,\u001b[49m\u001b[43m \u001b[49m\u001b[43mdevice\u001b[49m\u001b[43m)\u001b[49m\n\u001b[0;32m    128\u001b[0m     acc \u001b[38;5;241m=\u001b[39m test(student_model, testloader, device)\n\u001b[0;32m    131\u001b[0m     \u001b[38;5;28mprint\u001b[39m(\u001b[38;5;124mf\u001b[39m\u001b[38;5;124m\"\u001b[39m\u001b[38;5;124mEpoch \u001b[39m\u001b[38;5;132;01m{\u001b[39;00mepoch\u001b[38;5;241m+\u001b[39m\u001b[38;5;241m1\u001b[39m\u001b[38;5;132;01m}\u001b[39;00m\u001b[38;5;124m/\u001b[39m\u001b[38;5;132;01m{\u001b[39;00mnum_epochs\u001b[38;5;132;01m}\u001b[39;00m\u001b[38;5;124m, Accuracy: \u001b[39m\u001b[38;5;132;01m{\u001b[39;00macc\u001b[38;5;132;01m:\u001b[39;00m\u001b[38;5;124m.2f\u001b[39m\u001b[38;5;132;01m}\u001b[39;00m\u001b[38;5;124m%\u001b[39m\u001b[38;5;124m\"\u001b[39m)\n",
      "Cell \u001b[1;32mIn[3], line 114\u001b[0m, in \u001b[0;36mtrain_student\u001b[1;34m(model, train_loader, optimizer, epoch, loss_type, teacher_model, device)\u001b[0m\n\u001b[0;32m    112\u001b[0m loss\u001b[38;5;241m.\u001b[39mbackward()\n\u001b[0;32m    113\u001b[0m optimizer\u001b[38;5;241m.\u001b[39mstep()\n\u001b[1;32m--> 114\u001b[0m progress\u001b[38;5;241m.\u001b[39mset_postfix(loss\u001b[38;5;241m=\u001b[39m\u001b[38;5;124mf\u001b[39m\u001b[38;5;124m\"\u001b[39m\u001b[38;5;132;01m{\u001b[39;00m\u001b[43mloss\u001b[49m\u001b[38;5;241;43m.\u001b[39;49m\u001b[43mitem\u001b[49m\u001b[43m(\u001b[49m\u001b[43m)\u001b[49m\u001b[38;5;132;01m:\u001b[39;00m\u001b[38;5;124m.4f\u001b[39m\u001b[38;5;132;01m}\u001b[39;00m\u001b[38;5;124m\"\u001b[39m)\n",
      "\u001b[1;31mKeyboardInterrupt\u001b[0m: "
     ]
    }
   ],
   "source": [
    "\n",
    "import torch\n",
    "import torch.nn as nn\n",
    "import torch.optim as optim\n",
    "import torch.nn.functional as F\n",
    "import torchvision\n",
    "import torchvision.transforms as transforms\n",
    "from torchvision.models import VGG16_Weights\n",
    "from tqdm import tqdm\n",
    "import os\n",
    "\n",
    "\n",
    "def test(model, test_loader, device):\n",
    "    model.eval()\n",
    "    correct = 0\n",
    "    total = 0\n",
    "    with torch.no_grad():\n",
    "        for inputs, labels in test_loader:\n",
    "            inputs, labels = inputs.to(device), labels.to(device)\n",
    "            outputs = model(inputs)\n",
    "            _, predicted = torch.max(outputs.data, 1)\n",
    "            total += labels.size(0)\n",
    "            correct += (predicted == labels).sum().item()\n",
    "    return 100 * correct / total\n",
    "\n",
    "\n",
    "\n",
    "device = torch.device(\"cuda\" if torch.cuda.is_available() else \"cpu\")\n",
    "print(f\"Using device: {device}\")\n",
    "\n",
    "transform_train = transforms.Compose([\n",
    "    transforms.RandomCrop(32, padding=4), transforms.RandomHorizontalFlip(), transforms.ToTensor(),\n",
    "    transforms.Normalize((0.5071, 0.4867, 0.4408), (0.2675, 0.2565, 0.2761)),\n",
    "])\n",
    "transform_test = transforms.Compose([\n",
    "    transforms.ToTensor(), transforms.Normalize((0.5071, 0.4867, 0.4408), (0.2675, 0.2565, 0.2761)),\n",
    "])\n",
    "trainset = torchvision.datasets.CIFAR100(root='./data', train=True, download=True, transform=transform_train)\n",
    "trainloader = torch.utils.data.DataLoader(trainset, batch_size=128, shuffle=True, num_workers=0)\n",
    "testset = torchvision.datasets.CIFAR100(root='./data', train=False, download=True, transform=transform_test)\n",
    "testloader = torch.utils.data.DataLoader(testset, batch_size=100, shuffle=False, num_workers=0)\n",
    "\n",
    "\n",
    "teacher_save_path = './best_teacher_vgg16_cifar100.pth'\n",
    "teacher_model = torchvision.models.vgg16(weights=None, num_classes=100).to(device)\n",
    "\n",
    "if not os.path.exists(teacher_save_path):\n",
    "    print(\"FATAL ERROR: Teacher model 'best_teacher_vgg16_cifar100.pth' not found. Please run the fine-tuning script first.\")\n",
    "    exit()\n",
    "\n",
    "print(f\"--- Loading existing teacher from {teacher_save_path} ---\")\n",
    "teacher_model.load_state_dict(torch.load(teacher_save_path))\n",
    "teacher_acc = test(teacher_model, testloader, device)\n",
    "print(f\"Using teacher with accuracy: {teacher_acc:.2f}%\")\n",
    "teacher_model.eval()\n",
    "\n",
    "\n",
    "def get_student_model():\n",
    "    return torchvision.models.vgg11(weights=None, num_classes=100).to(device)\n",
    "\n",
    "\n",
    "class LabelSmoothingLoss(nn.Module):\n",
    "    def __init__(self, classes=100, smoothing=0.1):\n",
    "        super(LabelSmoothingLoss, self).__init__()\n",
    "        self.confidence = 1.0 - smoothing\n",
    "        self.smoothing = smoothing\n",
    "    def forward(self, pred, target):\n",
    "        pred = pred.log_softmax(dim=-1)\n",
    "        with torch.no_grad():\n",
    "            true_dist = torch.zeros_like(pred)\n",
    "            true_dist.fill_(self.smoothing / (pred.size(1) - 1))\n",
    "            true_dist.scatter_(1, target.data.unsqueeze(1), self.confidence)\n",
    "        return torch.mean(torch.sum(-true_dist * pred, dim=-1))\n",
    "\n",
    "\n",
    "def dkd_loss(student_logits, teacher_logits, labels, alpha, beta, temperature):\n",
    "    gt_mask = torch.zeros_like(student_logits).scatter_(1, labels.unsqueeze(1), 1).bool()\n",
    "    other_mask = ~gt_mask\n",
    "    pred_student_gt = F.log_softmax(student_logits / temperature, dim=1)\n",
    "    pred_teacher_gt = F.softmax(teacher_logits / temperature, dim=1)\n",
    "    tckd = (F.kl_div(pred_student_gt, pred_teacher_gt, reduction='none') * (temperature**2)).masked_select(gt_mask).mean()\n",
    "    pred_student_other = F.log_softmax(student_logits - 1000 * gt_mask, dim=1)\n",
    "    pred_teacher_other = F.softmax(teacher_logits - 1000 * gt_mask, dim=1)\n",
    "    nckd = (F.kl_div(pred_student_other, pred_teacher_other, reduction='none') * (temperature**2)).masked_select(other_mask).mean()\n",
    "    return alpha * tckd + beta * nckd\n",
    "\n",
    "\n",
    "def train_student(model, train_loader, optimizer, epoch, loss_type, teacher_model, device):\n",
    "    model.train()\n",
    "    progress = tqdm(train_loader, desc=f\"Student Epoch {epoch+1} [{loss_type.upper()}]\", leave=False)\n",
    "\n",
    "    if loss_type == 'ls':\n",
    "        criterion = LabelSmoothingLoss()\n",
    "    else:\n",
    "        criterion = nn.CrossEntropyLoss()\n",
    "\n",
    "    for inputs, labels in progress:\n",
    "        inputs, labels = inputs.to(device), labels.to(device)\n",
    "        optimizer.zero_grad()\n",
    "        outputs = model(inputs)\n",
    "\n",
    "        if loss_type == 'dkd':\n",
    "            with torch.no_grad():\n",
    "                teacher_outputs = teacher_model(inputs)\n",
    "            ce_loss = criterion(outputs, labels)\n",
    "            distill_loss = dkd_loss(outputs, teacher_outputs, labels, alpha=1.0, beta=8.0, temperature=4.0)\n",
    "            loss = ce_loss + distill_loss\n",
    "        elif loss_type == 'ls':\n",
    "            loss = criterion(outputs, labels)\n",
    "        else: # 'ce' for baseline\n",
    "            loss = criterion(outputs, labels)\n",
    "        \n",
    "        loss.backward()\n",
    "        optimizer.step()\n",
    "        progress.set_postfix(loss=f\"{loss.item():.4f}\")\n",
    "\n",
    "\n",
    "def run_experiment(loss_type, teacher_model, device, num_epochs=200):\n",
    "    print(f\"\\n--- Running Experiment: {loss_type.upper()} ---\")\n",
    "    student_model = get_student_model()\n",
    "    student_save_path = f'./best_student_{loss_type}.pth'\n",
    "    \n",
    "    optimizer = optim.SGD(student_model.parameters(), lr=0.05, momentum=0.9, weight_decay=5e-4)\n",
    "    scheduler = optim.lr_scheduler.CosineAnnealingLR(optimizer, T_max=num_epochs)\n",
    "    \n",
    "    best_acc = 0.0\n",
    "    for epoch in range(num_epochs):\n",
    "        train_student(student_model, trainloader, optimizer, epoch, loss_type, teacher_model, device)\n",
    "        acc = test(student_model, testloader, device)\n",
    "        \n",
    "        \n",
    "        print(f\"Epoch {epoch+1}/{num_epochs}, Accuracy: {acc:.2f}%\")\n",
    "        \n",
    "        if acc > best_acc:\n",
    "            best_acc = acc\n",
    "            print(f\"New best accuracy: {best_acc:.2f}%. Saving student model to {student_save_path}\")\n",
    "            torch.save(student_model.state_dict(), student_save_path)\n",
    "            \n",
    "        scheduler.step()\n",
    "        \n",
    "    print(f\"Finished Training for {loss_type.upper()}. Best Accuracy: {best_acc:.2f}%\")\n",
    "    return best_acc\n",
    "\n",
    "\n",
    "results = {}\n",
    "STUDENT_EPOCHS = 40\n",
    "\n",
    "results['ls'] = run_experiment('ls', teacher_model, device, STUDENT_EPOCHS)\n",
    "results['dkd'] = run_experiment('dkd', teacher_model, device, STUDENT_EPOCHS)\n",
    "\n",
    "try:\n",
    "   \n",
    "    lm_student = get_student_model()\n",
    "    lm_student.load_state_dict(torch.load('./best_student_lm.pth'))\n",
    "    lm_accuracy = test(lm_student, testloader, device)\n",
    "except FileNotFoundError:\n",
    "    lm_accuracy = \"Not Found\" \n",
    "\n",
    "print(\"\\n\\n--- Final Results Summary for Task 1 ---\")\n",
    "if lm_accuracy != \"Not Found\":\n",
    "    print(f\"Logit Matching (LM) Accuracy:   {lm_accuracy:.2f}%\")\n",
    "else:\n",
    "    print(\"Logit Matching (LM) Accuracy:   Could not find saved model 'best_student_lm.pth'\")\n",
    "\n",
    "print(f\"Baseline Student (CE) Accuracy: {results.get('baseline', 0):.2f}%\")\n",
    "print(f\"Label Smoothing (LS) Accuracy:  {results.get('ls', 0):.2f}%\")\n",
    "print(f\"Decoupled KD (DKD) Accuracy:    {results.get('dkd', 0):.2f}%\")"
   ]
  },
  {
   "cell_type": "code",
   "execution_count": 5,
   "id": "2b409fef",
   "metadata": {},
   "outputs": [
    {
     "name": "stdout",
     "output_type": "stream",
     "text": [
      "Using device: cuda\n",
      "Files already downloaded and verified\n",
      "Files already downloaded and verified\n",
      "--- Loading existing teacher from ./best_teacher_vgg16_cifar100.pth ---\n"
     ]
    },
    {
     "name": "stderr",
     "output_type": "stream",
     "text": [
      "C:\\Users\\xylic\\AppData\\Local\\Temp\\ipykernel_18428\\2014021289.py:58: FutureWarning: You are using `torch.load` with `weights_only=False` (the current default value), which uses the default pickle module implicitly. It is possible to construct malicious pickle data which will execute arbitrary code during unpickling (See https://github.com/pytorch/pytorch/blob/main/SECURITY.md#untrusted-models for more details). In a future release, the default value for `weights_only` will be flipped to `True`. This limits the functions that could be executed during unpickling. Arbitrary objects will no longer be allowed to be loaded via this mode unless they are explicitly allowlisted by the user via `torch.serialization.add_safe_globals`. We recommend you start setting `weights_only=True` for any use case where you don't have full control of the loaded file. Please open an issue on GitHub for any issues related to this experimental feature.\n",
      "  teacher_model.load_state_dict(torch.load(teacher_save_path))\n"
     ]
    },
    {
     "name": "stdout",
     "output_type": "stream",
     "text": [
      "Using teacher with accuracy: 69.01%\n",
      "\n",
      "--- Running Experiment: DECOUPLED KD (DKD) ---\n"
     ]
    },
    {
     "name": "stderr",
     "output_type": "stream",
     "text": [
      "                                                                                      \r"
     ]
    },
    {
     "name": "stdout",
     "output_type": "stream",
     "text": [
      "Epoch 1/40, Accuracy: 3.62%\n",
      "New best accuracy: 3.62%. Saving student model to ./best_student_dkd.pth\n"
     ]
    },
    {
     "name": "stderr",
     "output_type": "stream",
     "text": [
      "                                                                                      \r"
     ]
    },
    {
     "name": "stdout",
     "output_type": "stream",
     "text": [
      "Epoch 2/40, Accuracy: 5.98%\n",
      "New best accuracy: 5.98%. Saving student model to ./best_student_dkd.pth\n"
     ]
    },
    {
     "name": "stderr",
     "output_type": "stream",
     "text": [
      "                                                                                      \r"
     ]
    },
    {
     "name": "stdout",
     "output_type": "stream",
     "text": [
      "Epoch 3/40, Accuracy: 10.11%\n",
      "New best accuracy: 10.11%. Saving student model to ./best_student_dkd.pth\n"
     ]
    },
    {
     "name": "stderr",
     "output_type": "stream",
     "text": [
      "                                                                                      \r"
     ]
    },
    {
     "name": "stdout",
     "output_type": "stream",
     "text": [
      "Epoch 4/40, Accuracy: 15.20%\n",
      "New best accuracy: 15.20%. Saving student model to ./best_student_dkd.pth\n"
     ]
    },
    {
     "name": "stderr",
     "output_type": "stream",
     "text": [
      "                                                                                      \r"
     ]
    },
    {
     "name": "stdout",
     "output_type": "stream",
     "text": [
      "Epoch 5/40, Accuracy: 19.30%\n",
      "New best accuracy: 19.30%. Saving student model to ./best_student_dkd.pth\n"
     ]
    },
    {
     "name": "stderr",
     "output_type": "stream",
     "text": [
      "                                                                                      \r"
     ]
    },
    {
     "name": "stdout",
     "output_type": "stream",
     "text": [
      "Epoch 6/40, Accuracy: 25.35%\n",
      "New best accuracy: 25.35%. Saving student model to ./best_student_dkd.pth\n"
     ]
    },
    {
     "name": "stderr",
     "output_type": "stream",
     "text": [
      "                                                                                      \r"
     ]
    },
    {
     "name": "stdout",
     "output_type": "stream",
     "text": [
      "Epoch 7/40, Accuracy: 27.39%\n",
      "New best accuracy: 27.39%. Saving student model to ./best_student_dkd.pth\n"
     ]
    },
    {
     "name": "stderr",
     "output_type": "stream",
     "text": [
      "                                                                                      \r"
     ]
    },
    {
     "name": "stdout",
     "output_type": "stream",
     "text": [
      "Epoch 8/40, Accuracy: 30.60%\n",
      "New best accuracy: 30.60%. Saving student model to ./best_student_dkd.pth\n"
     ]
    },
    {
     "name": "stderr",
     "output_type": "stream",
     "text": [
      "                                                                                     \r"
     ]
    },
    {
     "name": "stdout",
     "output_type": "stream",
     "text": [
      "Epoch 9/40, Accuracy: 31.39%\n",
      "New best accuracy: 31.39%. Saving student model to ./best_student_dkd.pth\n"
     ]
    },
    {
     "name": "stderr",
     "output_type": "stream",
     "text": [
      "                                                                                      \r"
     ]
    },
    {
     "name": "stdout",
     "output_type": "stream",
     "text": [
      "Epoch 10/40, Accuracy: 36.47%\n",
      "New best accuracy: 36.47%. Saving student model to ./best_student_dkd.pth\n"
     ]
    },
    {
     "name": "stderr",
     "output_type": "stream",
     "text": [
      "                                                                                      \r"
     ]
    },
    {
     "name": "stdout",
     "output_type": "stream",
     "text": [
      "Epoch 11/40, Accuracy: 37.41%\n",
      "New best accuracy: 37.41%. Saving student model to ./best_student_dkd.pth\n"
     ]
    },
    {
     "name": "stderr",
     "output_type": "stream",
     "text": [
      "                                                                                      \r"
     ]
    },
    {
     "name": "stdout",
     "output_type": "stream",
     "text": [
      "Epoch 12/40, Accuracy: 38.94%\n",
      "New best accuracy: 38.94%. Saving student model to ./best_student_dkd.pth\n"
     ]
    },
    {
     "name": "stderr",
     "output_type": "stream",
     "text": [
      "                                                                                      \r"
     ]
    },
    {
     "name": "stdout",
     "output_type": "stream",
     "text": [
      "Epoch 13/40, Accuracy: 40.84%\n",
      "New best accuracy: 40.84%. Saving student model to ./best_student_dkd.pth\n"
     ]
    },
    {
     "name": "stderr",
     "output_type": "stream",
     "text": [
      "                                                                                      \r"
     ]
    },
    {
     "name": "stdout",
     "output_type": "stream",
     "text": [
      "Epoch 14/40, Accuracy: 43.65%\n",
      "New best accuracy: 43.65%. Saving student model to ./best_student_dkd.pth\n"
     ]
    },
    {
     "name": "stderr",
     "output_type": "stream",
     "text": [
      "                                                                                      \r"
     ]
    },
    {
     "name": "stdout",
     "output_type": "stream",
     "text": [
      "Epoch 15/40, Accuracy: 45.20%\n",
      "New best accuracy: 45.20%. Saving student model to ./best_student_dkd.pth\n"
     ]
    },
    {
     "name": "stderr",
     "output_type": "stream",
     "text": [
      "                                                                                      \r"
     ]
    },
    {
     "name": "stdout",
     "output_type": "stream",
     "text": [
      "Epoch 16/40, Accuracy: 45.24%\n",
      "New best accuracy: 45.24%. Saving student model to ./best_student_dkd.pth\n"
     ]
    },
    {
     "name": "stderr",
     "output_type": "stream",
     "text": [
      "                                                                                      \r"
     ]
    },
    {
     "name": "stdout",
     "output_type": "stream",
     "text": [
      "Epoch 17/40, Accuracy: 48.74%\n",
      "New best accuracy: 48.74%. Saving student model to ./best_student_dkd.pth\n"
     ]
    },
    {
     "name": "stderr",
     "output_type": "stream",
     "text": [
      "                                                                                      \r"
     ]
    },
    {
     "name": "stdout",
     "output_type": "stream",
     "text": [
      "Epoch 18/40, Accuracy: 50.49%\n",
      "New best accuracy: 50.49%. Saving student model to ./best_student_dkd.pth\n"
     ]
    },
    {
     "name": "stderr",
     "output_type": "stream",
     "text": [
      "                                                                                      \r"
     ]
    },
    {
     "name": "stdout",
     "output_type": "stream",
     "text": [
      "Epoch 19/40, Accuracy: 49.96%\n"
     ]
    },
    {
     "name": "stderr",
     "output_type": "stream",
     "text": [
      "                                                                                      \r"
     ]
    },
    {
     "name": "stdout",
     "output_type": "stream",
     "text": [
      "Epoch 20/40, Accuracy: 50.32%\n"
     ]
    },
    {
     "name": "stderr",
     "output_type": "stream",
     "text": [
      "                                                                                      \r"
     ]
    },
    {
     "name": "stdout",
     "output_type": "stream",
     "text": [
      "Epoch 21/40, Accuracy: 53.59%\n",
      "New best accuracy: 53.59%. Saving student model to ./best_student_dkd.pth\n"
     ]
    },
    {
     "name": "stderr",
     "output_type": "stream",
     "text": [
      "                                                                                      \r"
     ]
    },
    {
     "name": "stdout",
     "output_type": "stream",
     "text": [
      "Epoch 22/40, Accuracy: 54.25%\n",
      "New best accuracy: 54.25%. Saving student model to ./best_student_dkd.pth\n"
     ]
    },
    {
     "name": "stderr",
     "output_type": "stream",
     "text": [
      "                                                                                       \r"
     ]
    },
    {
     "name": "stdout",
     "output_type": "stream",
     "text": [
      "Epoch 23/40, Accuracy: 54.54%\n",
      "New best accuracy: 54.54%. Saving student model to ./best_student_dkd.pth\n"
     ]
    },
    {
     "name": "stderr",
     "output_type": "stream",
     "text": [
      "                                                                                       \r"
     ]
    },
    {
     "name": "stdout",
     "output_type": "stream",
     "text": [
      "Epoch 24/40, Accuracy: 55.03%\n",
      "New best accuracy: 55.03%. Saving student model to ./best_student_dkd.pth\n"
     ]
    },
    {
     "name": "stderr",
     "output_type": "stream",
     "text": [
      "                                                                                       \r"
     ]
    },
    {
     "name": "stdout",
     "output_type": "stream",
     "text": [
      "Epoch 25/40, Accuracy: 55.47%\n",
      "New best accuracy: 55.47%. Saving student model to ./best_student_dkd.pth\n"
     ]
    },
    {
     "name": "stderr",
     "output_type": "stream",
     "text": [
      "                                                                                       \r"
     ]
    },
    {
     "name": "stdout",
     "output_type": "stream",
     "text": [
      "Epoch 26/40, Accuracy: 56.47%\n",
      "New best accuracy: 56.47%. Saving student model to ./best_student_dkd.pth\n"
     ]
    },
    {
     "name": "stderr",
     "output_type": "stream",
     "text": [
      "                                                                                       \r"
     ]
    },
    {
     "name": "stdout",
     "output_type": "stream",
     "text": [
      "Epoch 27/40, Accuracy: 56.62%\n",
      "New best accuracy: 56.62%. Saving student model to ./best_student_dkd.pth\n"
     ]
    },
    {
     "name": "stderr",
     "output_type": "stream",
     "text": [
      "                                                                                       \r"
     ]
    },
    {
     "name": "stdout",
     "output_type": "stream",
     "text": [
      "Epoch 28/40, Accuracy: 57.77%\n",
      "New best accuracy: 57.77%. Saving student model to ./best_student_dkd.pth\n"
     ]
    },
    {
     "name": "stderr",
     "output_type": "stream",
     "text": [
      "                                                                                       \r"
     ]
    },
    {
     "name": "stdout",
     "output_type": "stream",
     "text": [
      "Epoch 29/40, Accuracy: 58.34%\n",
      "New best accuracy: 58.34%. Saving student model to ./best_student_dkd.pth\n"
     ]
    },
    {
     "name": "stderr",
     "output_type": "stream",
     "text": [
      "                                                                                       \r"
     ]
    },
    {
     "name": "stdout",
     "output_type": "stream",
     "text": [
      "Epoch 30/40, Accuracy: 58.65%\n",
      "New best accuracy: 58.65%. Saving student model to ./best_student_dkd.pth\n"
     ]
    },
    {
     "name": "stderr",
     "output_type": "stream",
     "text": [
      "                                                                                       \r"
     ]
    },
    {
     "name": "stdout",
     "output_type": "stream",
     "text": [
      "Epoch 31/40, Accuracy: 59.35%\n",
      "New best accuracy: 59.35%. Saving student model to ./best_student_dkd.pth\n"
     ]
    },
    {
     "name": "stderr",
     "output_type": "stream",
     "text": [
      "                                                                                       \r"
     ]
    },
    {
     "name": "stdout",
     "output_type": "stream",
     "text": [
      "Epoch 32/40, Accuracy: 60.03%\n",
      "New best accuracy: 60.03%. Saving student model to ./best_student_dkd.pth\n"
     ]
    },
    {
     "name": "stderr",
     "output_type": "stream",
     "text": [
      "                                                                                       \r"
     ]
    },
    {
     "name": "stdout",
     "output_type": "stream",
     "text": [
      "Epoch 33/40, Accuracy: 59.73%\n"
     ]
    },
    {
     "name": "stderr",
     "output_type": "stream",
     "text": [
      "                                                                                       \r"
     ]
    },
    {
     "name": "stdout",
     "output_type": "stream",
     "text": [
      "Epoch 34/40, Accuracy: 60.64%\n",
      "New best accuracy: 60.64%. Saving student model to ./best_student_dkd.pth\n"
     ]
    },
    {
     "name": "stderr",
     "output_type": "stream",
     "text": [
      "                                                                                       \r"
     ]
    },
    {
     "name": "stdout",
     "output_type": "stream",
     "text": [
      "Epoch 35/40, Accuracy: 61.16%\n",
      "New best accuracy: 61.16%. Saving student model to ./best_student_dkd.pth\n"
     ]
    },
    {
     "name": "stderr",
     "output_type": "stream",
     "text": [
      "                                                                                       \r"
     ]
    },
    {
     "name": "stdout",
     "output_type": "stream",
     "text": [
      "Epoch 36/40, Accuracy: 61.04%\n"
     ]
    },
    {
     "name": "stderr",
     "output_type": "stream",
     "text": [
      "                                                                                       \r"
     ]
    },
    {
     "name": "stdout",
     "output_type": "stream",
     "text": [
      "Epoch 37/40, Accuracy: 61.00%\n"
     ]
    },
    {
     "name": "stderr",
     "output_type": "stream",
     "text": [
      "                                                                                       \r"
     ]
    },
    {
     "name": "stdout",
     "output_type": "stream",
     "text": [
      "Epoch 38/40, Accuracy: 61.44%\n",
      "New best accuracy: 61.44%. Saving student model to ./best_student_dkd.pth\n"
     ]
    },
    {
     "name": "stderr",
     "output_type": "stream",
     "text": [
      "                                                                                       \r"
     ]
    },
    {
     "name": "stdout",
     "output_type": "stream",
     "text": [
      "Epoch 39/40, Accuracy: 61.52%\n",
      "New best accuracy: 61.52%. Saving student model to ./best_student_dkd.pth\n"
     ]
    },
    {
     "name": "stderr",
     "output_type": "stream",
     "text": [
      "                                                                                       \r"
     ]
    },
    {
     "name": "stdout",
     "output_type": "stream",
     "text": [
      "Epoch 40/40, Accuracy: 61.55%\n",
      "New best accuracy: 61.55%. Saving student model to ./best_student_dkd.pth\n",
      "\n",
      "Finished Training for DKD. Best Accuracy: 61.55%\n",
      "Best DKD student model saved to ./best_student_dkd.pth\n",
      "\n",
      "\n",
      "--- Final Result for DKD ---\n",
      "Decoupled KD (DKD) Best Accuracy: 61.55%\n"
     ]
    }
   ],
   "source": [
    "import torch\n",
    "import torch.nn as nn\n",
    "import torch.optim as optim\n",
    "import torch.nn.functional as F\n",
    "import torchvision\n",
    "import torchvision.transforms as transforms\n",
    "from tqdm import tqdm\n",
    "import os\n",
    "torch.cuda.empty_cache()\n",
    "\n",
    "\n",
    "\n",
    "def test(model, test_loader, device):\n",
    "   \n",
    "    model.eval()\n",
    "    correct = 0\n",
    "    total = 0\n",
    "    with torch.no_grad():\n",
    "        for inputs, labels in test_loader:\n",
    "            inputs, labels = inputs.to(device), labels.to(device)\n",
    "            outputs = model(inputs)\n",
    "            _, predicted = torch.max(outputs.data, 1)\n",
    "            total += labels.size(0)\n",
    "            correct += (predicted == labels).sum().item()\n",
    "    return 100 * correct / total\n",
    "\n",
    "\n",
    "\n",
    "device = torch.device(\"cuda\" if torch.cuda.is_available() else \"cpu\")\n",
    "print(f\"Using device: {device}\")\n",
    "\n",
    "transform_train = transforms.Compose([\n",
    "    transforms.RandomCrop(32, padding=4),\n",
    "    transforms.RandomHorizontalFlip(),\n",
    "    transforms.ToTensor(),\n",
    "    transforms.Normalize((0.5071, 0.4867, 0.4408), (0.2675, 0.2565, 0.2761)),\n",
    "])\n",
    "transform_test = transforms.Compose([\n",
    "    transforms.ToTensor(),\n",
    "    transforms.Normalize((0.5071, 0.4867, 0.4408), (0.2675, 0.2565, 0.2761)),\n",
    "])\n",
    "\n",
    "trainset = torchvision.datasets.CIFAR100(root='./data', train=True, download=True, transform=transform_train)\n",
    "trainloader = torch.utils.data.DataLoader(trainset, batch_size=128, shuffle=True, num_workers=0)\n",
    "testset = torchvision.datasets.CIFAR100(root='./data', train=False, download=True, transform=transform_test)\n",
    "testloader = torch.utils.data.DataLoader(testset, batch_size=100, shuffle=False, num_workers=0)\n",
    "\n",
    "\n",
    "\n",
    "teacher_save_path = './best_teacher_vgg16_cifar100.pth'\n",
    "teacher_model = torchvision.models.vgg16(weights=None, num_classes=100).to(device)\n",
    "\n",
    "if not os.path.exists(teacher_save_path):\n",
    "    print(f\"FATAL ERROR: Teacher model '{teacher_save_path}' not found. Please ensure the pre-trained teacher model is available.\")\n",
    "    exit()\n",
    "\n",
    "print(f\"--- Loading existing teacher from {teacher_save_path} ---\")\n",
    "teacher_model.load_state_dict(torch.load(teacher_save_path))\n",
    "teacher_acc = test(teacher_model, testloader, device)\n",
    "print(f\"Using teacher with accuracy: {teacher_acc:.2f}%\")\n",
    "teacher_model.eval()\n",
    "\n",
    "\n",
    "\n",
    "def get_student_model():\n",
    "   \n",
    "    return torchvision.models.vgg11(weights=None, num_classes=100).to(device)\n",
    "\n",
    "def dkd_loss(student_logits, teacher_logits, labels, temperature):\n",
    " \n",
    "    gt_mask = torch.zeros_like(student_logits).scatter_(1, labels.unsqueeze(1), 1).bool()\n",
    "    other_mask = ~gt_mask\n",
    "\n",
    "    pred_student_gt = F.log_softmax(student_logits / temperature, dim=1)\n",
    "    pred_teacher_gt = F.softmax(teacher_logits / temperature, dim=1)\n",
    "    tckd = (F.kl_div(pred_student_gt, pred_teacher_gt, reduction='none') * (temperature**2)).masked_select(gt_mask).mean()\n",
    "\n",
    "\n",
    "    student_logits_other = student_logits.masked_fill(gt_mask, -float('inf'))\n",
    "    teacher_logits_other = teacher_logits.masked_fill(gt_mask, -float('inf'))\n",
    "    pred_student_other = F.log_softmax(student_logits_other / temperature, dim=1)\n",
    "    pred_teacher_other = F.softmax(teacher_logits_other / temperature, dim=1)\n",
    "    nckd = (F.kl_div(pred_student_other, pred_teacher_other, reduction='none') * (temperature**2)).masked_select(other_mask).mean()\n",
    "\n",
    "    return tckd, nckd\n",
    "\n",
    "\n",
    "def train_student_dkd(model, train_loader, optimizer, epoch, teacher_model, device, alpha, beta, temperature):\n",
    "  \n",
    "    model.train()\n",
    "    progress = tqdm(train_loader, desc=f\"Student Epoch {epoch+1} [DKD]\", leave=False)\n",
    "    criterion = nn.CrossEntropyLoss()\n",
    "\n",
    "    for inputs, labels in progress:\n",
    "        inputs, labels = inputs.to(device), labels.to(device)\n",
    "        optimizer.zero_grad()\n",
    "        \n",
    "        outputs = model(inputs)\n",
    "        with torch.no_grad():\n",
    "            teacher_outputs = teacher_model(inputs)\n",
    "            \n",
    "        ce_loss = criterion(outputs, labels)\n",
    "        \n",
    "        tckd, nckd = dkd_loss(outputs, teacher_outputs, labels, temperature)\n",
    "        \n",
    "        loss = ce_loss + (alpha * tckd) + (beta * nckd)\n",
    "        \n",
    "        loss.backward()\n",
    "        optimizer.step()\n",
    "        progress.set_postfix(loss=f\"{loss.item():.4f}\")\n",
    "\n",
    "\n",
    "\n",
    "def run_dkd_experiment(teacher_model, device, num_epochs=40):\n",
    "    \n",
    "    print(f\"\\n--- Running Experiment: DECOUPLED KD (DKD) ---\")\n",
    "    student_model = get_student_model()\n",
    "    student_save_path = './best_student_dkd.pth'\n",
    "    \n",
    "    optimizer = optim.SGD(student_model.parameters(), lr=0.01, momentum=0.9, weight_decay=5e-4)\n",
    "    scheduler = optim.lr_scheduler.CosineAnnealingLR(optimizer, T_max=num_epochs)\n",
    "    \n",
    "   \n",
    "    alpha = 1.0\n",
    "    beta = 8.0\n",
    "    temperature = 4.0\n",
    "\n",
    "    best_acc = 0.0\n",
    "    for epoch in range(num_epochs):\n",
    "        train_student_dkd(student_model, trainloader, optimizer, epoch, teacher_model, device, alpha, beta, temperature)\n",
    "        acc = test(student_model, testloader, device)\n",
    "        \n",
    "        print(f\"Epoch {epoch+1}/{num_epochs}, Accuracy: {acc:.2f}%\")\n",
    "        \n",
    "        if acc > best_acc:\n",
    "            best_acc = acc\n",
    "            print(f\"New best accuracy: {best_acc:.2f}%. Saving student model to {student_save_path}\")\n",
    "            torch.save(student_model.state_dict(), student_save_path)\n",
    "            \n",
    "        scheduler.step()\n",
    "        \n",
    "    print(f\"\\nFinished Training for DKD. Best Accuracy: {best_acc:.2f}%\")\n",
    "    print(f\"Best DKD student model saved to {student_save_path}\")\n",
    "    return best_acc\n",
    "\n",
    "\n",
    "STUDENT_EPOCHS = 40\n",
    "\n",
    "\n",
    "dkd_accuracy = run_dkd_experiment(teacher_model, device, STUDENT_EPOCHS)\n",
    "\n",
    "print(\"\\n\\n--- Final Result for DKD ---\")\n",
    "print(f\"Decoupled KD (DKD) Best Accuracy: {dkd_accuracy:.2f}%\")"
   ]
  },
  {
   "cell_type": "code",
   "execution_count": 9,
   "id": "17d8dcfe",
   "metadata": {},
   "outputs": [],
   "source": [
    "torch.cuda.empty_cache()"
   ]
  },
  {
   "cell_type": "code",
   "execution_count": null,
   "id": "94106e01",
   "metadata": {},
   "outputs": [
    {
     "name": "stdout",
     "output_type": "stream",
     "text": [
      "Using device: cuda\n",
      "Files already downloaded and verified\n",
      "Files already downloaded and verified\n",
      "\n",
      "--- Running Experiment: INDEPENDENT STUDENT (SI) ---\n"
     ]
    },
    {
     "name": "stderr",
     "output_type": "stream",
     "text": [
      "                                                                                             \r"
     ]
    },
    {
     "name": "stdout",
     "output_type": "stream",
     "text": [
      "Epoch 1/200, Accuracy: 2.40%\n",
      "New best accuracy: 2.40%. Saving model to ./best_student_si.pth\n"
     ]
    },
    {
     "name": "stderr",
     "output_type": "stream",
     "text": [
      "                                                                                             \r"
     ]
    },
    {
     "name": "stdout",
     "output_type": "stream",
     "text": [
      "Epoch 2/200, Accuracy: 7.41%\n",
      "New best accuracy: 7.41%. Saving model to ./best_student_si.pth\n"
     ]
    },
    {
     "name": "stderr",
     "output_type": "stream",
     "text": [
      "                                                                                             \r"
     ]
    },
    {
     "name": "stdout",
     "output_type": "stream",
     "text": [
      "Epoch 3/200, Accuracy: 10.58%\n",
      "New best accuracy: 10.58%. Saving model to ./best_student_si.pth\n"
     ]
    },
    {
     "name": "stderr",
     "output_type": "stream",
     "text": [
      "                                                                                             \r"
     ]
    },
    {
     "name": "stdout",
     "output_type": "stream",
     "text": [
      "Epoch 4/200, Accuracy: 14.98%\n",
      "New best accuracy: 14.98%. Saving model to ./best_student_si.pth\n"
     ]
    },
    {
     "name": "stderr",
     "output_type": "stream",
     "text": [
      "                                                                                             \r"
     ]
    },
    {
     "name": "stdout",
     "output_type": "stream",
     "text": [
      "Epoch 5/200, Accuracy: 18.51%\n",
      "New best accuracy: 18.51%. Saving model to ./best_student_si.pth\n"
     ]
    },
    {
     "name": "stderr",
     "output_type": "stream",
     "text": [
      "                                                                                             \r"
     ]
    },
    {
     "name": "stdout",
     "output_type": "stream",
     "text": [
      "Epoch 6/200, Accuracy: 21.76%\n",
      "New best accuracy: 21.76%. Saving model to ./best_student_si.pth\n"
     ]
    },
    {
     "name": "stderr",
     "output_type": "stream",
     "text": [
      "                                                                                             \r"
     ]
    },
    {
     "name": "stdout",
     "output_type": "stream",
     "text": [
      "Epoch 7/200, Accuracy: 24.59%\n",
      "New best accuracy: 24.59%. Saving model to ./best_student_si.pth\n"
     ]
    },
    {
     "name": "stderr",
     "output_type": "stream",
     "text": [
      "                                                                                             \r"
     ]
    },
    {
     "name": "stdout",
     "output_type": "stream",
     "text": [
      "Epoch 8/200, Accuracy: 29.03%\n",
      "New best accuracy: 29.03%. Saving model to ./best_student_si.pth\n"
     ]
    },
    {
     "name": "stderr",
     "output_type": "stream",
     "text": [
      "                                                                                             \r"
     ]
    },
    {
     "name": "stdout",
     "output_type": "stream",
     "text": [
      "Epoch 9/200, Accuracy: 30.05%\n",
      "New best accuracy: 30.05%. Saving model to ./best_student_si.pth\n"
     ]
    },
    {
     "name": "stderr",
     "output_type": "stream",
     "text": [
      "                                                                                              \r"
     ]
    },
    {
     "name": "stdout",
     "output_type": "stream",
     "text": [
      "Epoch 10/200, Accuracy: 32.64%\n",
      "New best accuracy: 32.64%. Saving model to ./best_student_si.pth\n"
     ]
    },
    {
     "name": "stderr",
     "output_type": "stream",
     "text": [
      "                                                                                              \r"
     ]
    },
    {
     "name": "stdout",
     "output_type": "stream",
     "text": [
      "Epoch 11/200, Accuracy: 33.26%\n",
      "New best accuracy: 33.26%. Saving model to ./best_student_si.pth\n"
     ]
    },
    {
     "name": "stderr",
     "output_type": "stream",
     "text": [
      "                                                                                              \r"
     ]
    },
    {
     "name": "stdout",
     "output_type": "stream",
     "text": [
      "Epoch 12/200, Accuracy: 36.07%\n",
      "New best accuracy: 36.07%. Saving model to ./best_student_si.pth\n"
     ]
    },
    {
     "name": "stderr",
     "output_type": "stream",
     "text": [
      "                                                                                              \r"
     ]
    },
    {
     "name": "stdout",
     "output_type": "stream",
     "text": [
      "Epoch 13/200, Accuracy: 36.81%\n",
      "New best accuracy: 36.81%. Saving model to ./best_student_si.pth\n"
     ]
    },
    {
     "name": "stderr",
     "output_type": "stream",
     "text": [
      "                                                                                              \r"
     ]
    },
    {
     "name": "stdout",
     "output_type": "stream",
     "text": [
      "Epoch 14/200, Accuracy: 38.11%\n",
      "New best accuracy: 38.11%. Saving model to ./best_student_si.pth\n"
     ]
    },
    {
     "name": "stderr",
     "output_type": "stream",
     "text": [
      "                                                                                              \r"
     ]
    },
    {
     "name": "stdout",
     "output_type": "stream",
     "text": [
      "Epoch 15/200, Accuracy: 37.81%\n"
     ]
    },
    {
     "name": "stderr",
     "output_type": "stream",
     "text": [
      "                                                                                              \r"
     ]
    },
    {
     "name": "stdout",
     "output_type": "stream",
     "text": [
      "Epoch 16/200, Accuracy: 39.85%\n",
      "New best accuracy: 39.85%. Saving model to ./best_student_si.pth\n"
     ]
    },
    {
     "name": "stderr",
     "output_type": "stream",
     "text": [
      "                                                                                              \r"
     ]
    },
    {
     "name": "stdout",
     "output_type": "stream",
     "text": [
      "Epoch 17/200, Accuracy: 41.80%\n",
      "New best accuracy: 41.80%. Saving model to ./best_student_si.pth\n"
     ]
    },
    {
     "name": "stderr",
     "output_type": "stream",
     "text": [
      "                                                                                              \r"
     ]
    },
    {
     "name": "stdout",
     "output_type": "stream",
     "text": [
      "Epoch 18/200, Accuracy: 41.73%\n"
     ]
    },
    {
     "name": "stderr",
     "output_type": "stream",
     "text": [
      "                                                                                              \r"
     ]
    },
    {
     "name": "stdout",
     "output_type": "stream",
     "text": [
      "Epoch 19/200, Accuracy: 43.54%\n",
      "New best accuracy: 43.54%. Saving model to ./best_student_si.pth\n"
     ]
    },
    {
     "name": "stderr",
     "output_type": "stream",
     "text": [
      "                                                                                              \r"
     ]
    },
    {
     "name": "stdout",
     "output_type": "stream",
     "text": [
      "Epoch 20/200, Accuracy: 41.26%\n"
     ]
    },
    {
     "name": "stderr",
     "output_type": "stream",
     "text": [
      "                                                                                              \r"
     ]
    },
    {
     "name": "stdout",
     "output_type": "stream",
     "text": [
      "Epoch 21/200, Accuracy: 43.35%\n"
     ]
    },
    {
     "name": "stderr",
     "output_type": "stream",
     "text": [
      "                                                                                              \r"
     ]
    },
    {
     "name": "stdout",
     "output_type": "stream",
     "text": [
      "Epoch 22/200, Accuracy: 45.00%\n",
      "New best accuracy: 45.00%. Saving model to ./best_student_si.pth\n"
     ]
    },
    {
     "name": "stderr",
     "output_type": "stream",
     "text": [
      "                                                                                              \r"
     ]
    },
    {
     "name": "stdout",
     "output_type": "stream",
     "text": [
      "Epoch 23/200, Accuracy: 45.45%\n",
      "New best accuracy: 45.45%. Saving model to ./best_student_si.pth\n"
     ]
    },
    {
     "name": "stderr",
     "output_type": "stream",
     "text": [
      "                                                                                              \r"
     ]
    },
    {
     "name": "stdout",
     "output_type": "stream",
     "text": [
      "Epoch 24/200, Accuracy: 45.40%\n"
     ]
    },
    {
     "name": "stderr",
     "output_type": "stream",
     "text": [
      "                                                                                              \r"
     ]
    },
    {
     "name": "stdout",
     "output_type": "stream",
     "text": [
      "Epoch 25/200, Accuracy: 44.39%\n"
     ]
    },
    {
     "name": "stderr",
     "output_type": "stream",
     "text": [
      "                                                                                              \r"
     ]
    },
    {
     "name": "stdout",
     "output_type": "stream",
     "text": [
      "Epoch 26/200, Accuracy: 45.16%\n"
     ]
    },
    {
     "name": "stderr",
     "output_type": "stream",
     "text": [
      "                                                                                              \r"
     ]
    },
    {
     "name": "stdout",
     "output_type": "stream",
     "text": [
      "Epoch 27/200, Accuracy: 44.06%\n"
     ]
    },
    {
     "name": "stderr",
     "output_type": "stream",
     "text": [
      "                                                                                              \r"
     ]
    },
    {
     "name": "stdout",
     "output_type": "stream",
     "text": [
      "Epoch 28/200, Accuracy: 45.65%\n",
      "New best accuracy: 45.65%. Saving model to ./best_student_si.pth\n"
     ]
    },
    {
     "name": "stderr",
     "output_type": "stream",
     "text": [
      "                                                                                              \r"
     ]
    },
    {
     "name": "stdout",
     "output_type": "stream",
     "text": [
      "Epoch 29/200, Accuracy: 46.32%\n",
      "New best accuracy: 46.32%. Saving model to ./best_student_si.pth\n"
     ]
    },
    {
     "name": "stderr",
     "output_type": "stream",
     "text": [
      "                                                                                              \r"
     ]
    },
    {
     "name": "stdout",
     "output_type": "stream",
     "text": [
      "Epoch 30/200, Accuracy: 47.10%\n",
      "New best accuracy: 47.10%. Saving model to ./best_student_si.pth\n"
     ]
    },
    {
     "name": "stderr",
     "output_type": "stream",
     "text": [
      "                                                                                              \r"
     ]
    },
    {
     "name": "stdout",
     "output_type": "stream",
     "text": [
      "Epoch 31/200, Accuracy: 48.33%\n",
      "New best accuracy: 48.33%. Saving model to ./best_student_si.pth\n"
     ]
    },
    {
     "name": "stderr",
     "output_type": "stream",
     "text": [
      "                                                                                              \r"
     ]
    },
    {
     "name": "stdout",
     "output_type": "stream",
     "text": [
      "Epoch 32/200, Accuracy: 48.20%\n"
     ]
    },
    {
     "name": "stderr",
     "output_type": "stream",
     "text": [
      "                                                                                              \r"
     ]
    },
    {
     "name": "stdout",
     "output_type": "stream",
     "text": [
      "Epoch 33/200, Accuracy: 47.17%\n"
     ]
    },
    {
     "name": "stderr",
     "output_type": "stream",
     "text": [
      "                                                                                              \r"
     ]
    },
    {
     "name": "stdout",
     "output_type": "stream",
     "text": [
      "Epoch 34/200, Accuracy: 46.34%\n"
     ]
    },
    {
     "name": "stderr",
     "output_type": "stream",
     "text": [
      "                                                                                              \r"
     ]
    },
    {
     "name": "stdout",
     "output_type": "stream",
     "text": [
      "Epoch 35/200, Accuracy: 47.20%\n"
     ]
    },
    {
     "name": "stderr",
     "output_type": "stream",
     "text": [
      "                                                                                              \r"
     ]
    },
    {
     "name": "stdout",
     "output_type": "stream",
     "text": [
      "Epoch 36/200, Accuracy: 49.04%\n",
      "New best accuracy: 49.04%. Saving model to ./best_student_si.pth\n"
     ]
    },
    {
     "name": "stderr",
     "output_type": "stream",
     "text": [
      "                                                                                              \r"
     ]
    },
    {
     "name": "stdout",
     "output_type": "stream",
     "text": [
      "Epoch 37/200, Accuracy: 47.14%\n"
     ]
    },
    {
     "name": "stderr",
     "output_type": "stream",
     "text": [
      "                                                                                              \r"
     ]
    },
    {
     "name": "stdout",
     "output_type": "stream",
     "text": [
      "Epoch 38/200, Accuracy: 48.97%\n"
     ]
    },
    {
     "name": "stderr",
     "output_type": "stream",
     "text": [
      "                                                                                              \r"
     ]
    },
    {
     "name": "stdout",
     "output_type": "stream",
     "text": [
      "Epoch 39/200, Accuracy: 49.64%\n",
      "New best accuracy: 49.64%. Saving model to ./best_student_si.pth\n"
     ]
    },
    {
     "name": "stderr",
     "output_type": "stream",
     "text": [
      "                                                                                              \r"
     ]
    },
    {
     "name": "stdout",
     "output_type": "stream",
     "text": [
      "Epoch 40/200, Accuracy: 47.12%\n"
     ]
    },
    {
     "name": "stderr",
     "output_type": "stream",
     "text": [
      "                                                                                              \r"
     ]
    },
    {
     "name": "stdout",
     "output_type": "stream",
     "text": [
      "Epoch 41/200, Accuracy: 49.77%\n",
      "New best accuracy: 49.77%. Saving model to ./best_student_si.pth\n"
     ]
    },
    {
     "name": "stderr",
     "output_type": "stream",
     "text": [
      "                                                                                              \r"
     ]
    },
    {
     "name": "stdout",
     "output_type": "stream",
     "text": [
      "Epoch 42/200, Accuracy: 49.69%\n"
     ]
    },
    {
     "name": "stderr",
     "output_type": "stream",
     "text": [
      "                                                                                              \r"
     ]
    },
    {
     "name": "stdout",
     "output_type": "stream",
     "text": [
      "Epoch 43/200, Accuracy: 50.13%\n",
      "New best accuracy: 50.13%. Saving model to ./best_student_si.pth\n"
     ]
    },
    {
     "name": "stderr",
     "output_type": "stream",
     "text": [
      "                                                                                              \r"
     ]
    },
    {
     "name": "stdout",
     "output_type": "stream",
     "text": [
      "Epoch 44/200, Accuracy: 49.74%\n"
     ]
    },
    {
     "name": "stderr",
     "output_type": "stream",
     "text": [
      "                                                                                              \r"
     ]
    },
    {
     "name": "stdout",
     "output_type": "stream",
     "text": [
      "Epoch 45/200, Accuracy: 49.45%\n"
     ]
    },
    {
     "name": "stderr",
     "output_type": "stream",
     "text": [
      "                                                                                              \r"
     ]
    },
    {
     "name": "stdout",
     "output_type": "stream",
     "text": [
      "Epoch 46/200, Accuracy: 50.94%\n",
      "New best accuracy: 50.94%. Saving model to ./best_student_si.pth\n"
     ]
    },
    {
     "name": "stderr",
     "output_type": "stream",
     "text": [
      "                                                                                              \r"
     ]
    },
    {
     "name": "stdout",
     "output_type": "stream",
     "text": [
      "Epoch 47/200, Accuracy: 50.19%\n"
     ]
    },
    {
     "name": "stderr",
     "output_type": "stream",
     "text": [
      "                                                                                              \r"
     ]
    },
    {
     "name": "stdout",
     "output_type": "stream",
     "text": [
      "Epoch 48/200, Accuracy: 52.24%\n",
      "New best accuracy: 52.24%. Saving model to ./best_student_si.pth\n"
     ]
    },
    {
     "name": "stderr",
     "output_type": "stream",
     "text": [
      "                                                                                              \r"
     ]
    },
    {
     "name": "stdout",
     "output_type": "stream",
     "text": [
      "Epoch 49/200, Accuracy: 50.49%\n"
     ]
    },
    {
     "name": "stderr",
     "output_type": "stream",
     "text": [
      "                                                                                              \r"
     ]
    },
    {
     "name": "stdout",
     "output_type": "stream",
     "text": [
      "Epoch 50/200, Accuracy: 51.76%\n"
     ]
    },
    {
     "name": "stderr",
     "output_type": "stream",
     "text": [
      "                                                                                              \r"
     ]
    },
    {
     "name": "stdout",
     "output_type": "stream",
     "text": [
      "Epoch 51/200, Accuracy: 51.64%\n"
     ]
    },
    {
     "name": "stderr",
     "output_type": "stream",
     "text": [
      "                                                                                              \r"
     ]
    },
    {
     "name": "stdout",
     "output_type": "stream",
     "text": [
      "Epoch 52/200, Accuracy: 51.37%\n"
     ]
    },
    {
     "name": "stderr",
     "output_type": "stream",
     "text": [
      "                                                                                              \r"
     ]
    },
    {
     "name": "stdout",
     "output_type": "stream",
     "text": [
      "Epoch 53/200, Accuracy: 52.64%\n",
      "New best accuracy: 52.64%. Saving model to ./best_student_si.pth\n"
     ]
    },
    {
     "name": "stderr",
     "output_type": "stream",
     "text": [
      "                                                                                              \r"
     ]
    },
    {
     "name": "stdout",
     "output_type": "stream",
     "text": [
      "Epoch 54/200, Accuracy: 51.19%\n"
     ]
    },
    {
     "name": "stderr",
     "output_type": "stream",
     "text": [
      "                                                                                              \r"
     ]
    },
    {
     "name": "stdout",
     "output_type": "stream",
     "text": [
      "Epoch 55/200, Accuracy: 52.37%\n"
     ]
    },
    {
     "name": "stderr",
     "output_type": "stream",
     "text": [
      "                                                                                              \r"
     ]
    },
    {
     "name": "stdout",
     "output_type": "stream",
     "text": [
      "Epoch 56/200, Accuracy: 52.67%\n",
      "New best accuracy: 52.67%. Saving model to ./best_student_si.pth\n"
     ]
    },
    {
     "name": "stderr",
     "output_type": "stream",
     "text": [
      "Student Epoch 57 [Independent]:  91%|█████████ | 355/391 [00:27<00:02, 14.53it/s, loss=1.6422]"
     ]
    }
   ],
   "source": [
    "import torch\n",
    "import torch.nn as nn\n",
    "import torch.optim as optim\n",
    "import torchvision\n",
    "import torchvision.transforms as transforms\n",
    "from tqdm import tqdm\n",
    "import os\n",
    "torch.cuda.empty_cache()\n",
    "\n",
    "\n",
    "def test(model, test_loader, device):\n",
    "    model.eval()\n",
    "    correct, total = 0, 0\n",
    "    with torch.no_grad():\n",
    "        for inputs, labels in test_loader:\n",
    "            inputs, labels = inputs.to(device), labels.to(device)\n",
    "            outputs = model(inputs)\n",
    "            _, predicted = torch.max(outputs.data, 1)\n",
    "            total += labels.size(0)\n",
    "            correct += (predicted == labels).sum().item()\n",
    "    return 100 * correct / total\n",
    "\n",
    "# --- DATA SETUP ---\n",
    "device = torch.device(\"cuda\" if torch.cuda.is_available() else \"cpu\")\n",
    "print(f\"Using device: {device}\")\n",
    "\n",
    "transform_train = transforms.Compose([\n",
    "    transforms.RandomCrop(32, padding=4),\n",
    "    transforms.RandomHorizontalFlip(),\n",
    "    transforms.ToTensor(),\n",
    "    transforms.Normalize((0.5071, 0.4867, 0.4408), (0.2675, 0.2565, 0.2761)),\n",
    "])\n",
    "transform_test = transforms.Compose([\n",
    "    transforms.ToTensor(),\n",
    "    transforms.Normalize((0.5071, 0.4867, 0.4408), (0.2675, 0.2565, 0.2761)),\n",
    "])\n",
    "\n",
    "trainset = torchvision.datasets.CIFAR100(root='./data', train=True, download=True, transform=transform_train)\n",
    "trainloader = torch.utils.data.DataLoader(trainset, batch_size=128, shuffle=True, num_workers=0)\n",
    "testset = torchvision.datasets.CIFAR100(root='./data', train=False, download=True, transform=transform_test)\n",
    "testloader = torch.utils.data.DataLoader(testset, batch_size=100, shuffle=False, num_workers=0)\n",
    "\n",
    "\n",
    "def get_student_model():\n",
    "    return torchvision.models.vgg11(weights=None, num_classes=100).to(device)\n",
    "\n",
    "def train_independent_student(model, train_loader, optimizer, epoch, device):\n",
    "    model.train()\n",
    "    criterion = nn.CrossEntropyLoss()\n",
    "    progress = tqdm(train_loader, desc=f\"Student Epoch {epoch+1} [Independent]\", leave=False)\n",
    "    for inputs, labels in progress:\n",
    "        inputs, labels = inputs.to(device), labels.to(device)\n",
    "        optimizer.zero_grad()\n",
    "        outputs = model(inputs)\n",
    "        loss = criterion(outputs, labels)\n",
    "        loss.backward()\n",
    "        optimizer.step()\n",
    "        progress.set_postfix(loss=f\"{loss.item():.4f}\")\n",
    "\n",
    "\n",
    "def run_si_experiment(num_epochs=200):\n",
    "    print(\"\\n--- Running Experiment: INDEPENDENT STUDENT (SI) ---\")\n",
    "    student_model = get_student_model()\n",
    "    student_save_path = './best_student_si.pth'\n",
    "    \n",
    "   \n",
    "    optimizer = optim.SGD(student_model.parameters(), lr=0.05, momentum=0.9, weight_decay=5e-4)\n",
    "    scheduler = optim.lr_scheduler.CosineAnnealingLR(optimizer, T_max=num_epochs)\n",
    "    \n",
    "    best_acc = 0.0\n",
    "    for epoch in range(num_epochs):\n",
    "        train_independent_student(student_model, trainloader, optimizer, epoch, device)\n",
    "        acc = test(student_model, testloader, device)\n",
    "        print(f\"Epoch {epoch+1}/{num_epochs}, Accuracy: {acc:.2f}%\")\n",
    "        \n",
    "        if acc > best_acc:\n",
    "            best_acc = acc\n",
    "            print(f\"New best accuracy: {best_acc:.2f}%. Saving model to {student_save_path}\")\n",
    "            torch.save(student_model.state_dict(), student_save_path)\n",
    "            \n",
    "        scheduler.step()\n",
    "        \n",
    "    print(f\"\\nFinished Training for SI. Best Accuracy: {best_acc:.2f}%\")\n",
    "    return best_acc\n",
    "\n",
    "\n",
    "STUDENT_EPOCHS = 200 \n",
    "si_accuracy = run_si_experiment(STUDENT_EPOCHS)\n",
    "print(f\"\\n--- Final Result for Independent Student ---\")\n",
    "print(f\"Independent Student (SI) Best Accuracy: {si_accuracy:.2f}%\")"
   ]
  },
  {
   "cell_type": "code",
   "execution_count": 2,
   "id": "7de89c75",
   "metadata": {},
   "outputs": [
    {
     "name": "stdout",
     "output_type": "stream",
     "text": [
      "Using device: cuda\n",
      "Files already downloaded and verified\n",
      "Files already downloaded and verified\n"
     ]
    },
    {
     "name": "stderr",
     "output_type": "stream",
     "text": [
      "C:\\Users\\xylic\\AppData\\Local\\Temp\\ipykernel_7496\\4035873234.py:77: FutureWarning: You are using `torch.load` with `weights_only=False` (the current default value), which uses the default pickle module implicitly. It is possible to construct malicious pickle data which will execute arbitrary code during unpickling (See https://github.com/pytorch/pytorch/blob/main/SECURITY.md#untrusted-models for more details). In a future release, the default value for `weights_only` will be flipped to `True`. This limits the functions that could be executed during unpickling. Arbitrary objects will no longer be allowed to be loaded via this mode unless they are explicitly allowlisted by the user via `torch.serialization.add_safe_globals`. We recommend you start setting `weights_only=True` for any use case where you don't have full control of the loaded file. Please open an issue on GitHub for any issues related to this experimental feature.\n",
      "  teacher_model.load_state_dict(torch.load(teacher_save_path))\n"
     ]
    },
    {
     "name": "stdout",
     "output_type": "stream",
     "text": [
      "Teacher model loaded successfully.\n",
      "\n",
      "--- Running Experiment: HINT-BASED DISTILLATION (HINTS) ---\n"
     ]
    },
    {
     "name": "stderr",
     "output_type": "stream",
     "text": [
      "                                                                                        \r"
     ]
    },
    {
     "name": "stdout",
     "output_type": "stream",
     "text": [
      "Epoch 1/40, Accuracy: 13.37%\n",
      "New best accuracy: 13.37%. Saving model to ./best_student_hints.pth\n"
     ]
    },
    {
     "name": "stderr",
     "output_type": "stream",
     "text": [
      "                                                                                        \r"
     ]
    },
    {
     "name": "stdout",
     "output_type": "stream",
     "text": [
      "Epoch 2/40, Accuracy: 25.49%\n",
      "New best accuracy: 25.49%. Saving model to ./best_student_hints.pth\n"
     ]
    },
    {
     "name": "stderr",
     "output_type": "stream",
     "text": [
      "                                                                                        \r"
     ]
    },
    {
     "name": "stdout",
     "output_type": "stream",
     "text": [
      "Epoch 3/40, Accuracy: 39.40%\n",
      "New best accuracy: 39.40%. Saving model to ./best_student_hints.pth\n"
     ]
    },
    {
     "name": "stderr",
     "output_type": "stream",
     "text": [
      "                                                                                        \r"
     ]
    },
    {
     "name": "stdout",
     "output_type": "stream",
     "text": [
      "Epoch 4/40, Accuracy: 45.10%\n",
      "New best accuracy: 45.10%. Saving model to ./best_student_hints.pth\n"
     ]
    },
    {
     "name": "stderr",
     "output_type": "stream",
     "text": [
      "                                                                                        \r"
     ]
    },
    {
     "name": "stdout",
     "output_type": "stream",
     "text": [
      "Epoch 5/40, Accuracy: 49.00%\n",
      "New best accuracy: 49.00%. Saving model to ./best_student_hints.pth\n"
     ]
    },
    {
     "name": "stderr",
     "output_type": "stream",
     "text": [
      "                                                                                        \r"
     ]
    },
    {
     "name": "stdout",
     "output_type": "stream",
     "text": [
      "Epoch 6/40, Accuracy: 52.99%\n",
      "New best accuracy: 52.99%. Saving model to ./best_student_hints.pth\n"
     ]
    },
    {
     "name": "stderr",
     "output_type": "stream",
     "text": [
      "                                                                                        \r"
     ]
    },
    {
     "name": "stdout",
     "output_type": "stream",
     "text": [
      "Epoch 7/40, Accuracy: 55.56%\n",
      "New best accuracy: 55.56%. Saving model to ./best_student_hints.pth\n"
     ]
    },
    {
     "name": "stderr",
     "output_type": "stream",
     "text": [
      "                                                                                        \r"
     ]
    },
    {
     "name": "stdout",
     "output_type": "stream",
     "text": [
      "Epoch 8/40, Accuracy: 57.09%\n",
      "New best accuracy: 57.09%. Saving model to ./best_student_hints.pth\n"
     ]
    },
    {
     "name": "stderr",
     "output_type": "stream",
     "text": [
      "                                                                                        \r"
     ]
    },
    {
     "name": "stdout",
     "output_type": "stream",
     "text": [
      "Epoch 9/40, Accuracy: 57.89%\n",
      "New best accuracy: 57.89%. Saving model to ./best_student_hints.pth\n"
     ]
    },
    {
     "name": "stderr",
     "output_type": "stream",
     "text": [
      "                                                                                         \r"
     ]
    },
    {
     "name": "stdout",
     "output_type": "stream",
     "text": [
      "Epoch 10/40, Accuracy: 58.68%\n",
      "New best accuracy: 58.68%. Saving model to ./best_student_hints.pth\n"
     ]
    },
    {
     "name": "stderr",
     "output_type": "stream",
     "text": [
      "                                                                                         \r"
     ]
    },
    {
     "name": "stdout",
     "output_type": "stream",
     "text": [
      "Epoch 11/40, Accuracy: 60.76%\n",
      "New best accuracy: 60.76%. Saving model to ./best_student_hints.pth\n"
     ]
    },
    {
     "name": "stderr",
     "output_type": "stream",
     "text": [
      "                                                                                         \r"
     ]
    },
    {
     "name": "stdout",
     "output_type": "stream",
     "text": [
      "Epoch 12/40, Accuracy: 61.49%\n",
      "New best accuracy: 61.49%. Saving model to ./best_student_hints.pth\n"
     ]
    },
    {
     "name": "stderr",
     "output_type": "stream",
     "text": [
      "                                                                                         \r"
     ]
    },
    {
     "name": "stdout",
     "output_type": "stream",
     "text": [
      "Epoch 13/40, Accuracy: 63.00%\n",
      "New best accuracy: 63.00%. Saving model to ./best_student_hints.pth\n"
     ]
    },
    {
     "name": "stderr",
     "output_type": "stream",
     "text": [
      "                                                                                         \r"
     ]
    },
    {
     "name": "stdout",
     "output_type": "stream",
     "text": [
      "Epoch 14/40, Accuracy: 62.84%\n"
     ]
    },
    {
     "name": "stderr",
     "output_type": "stream",
     "text": [
      "                                                                                         \r"
     ]
    },
    {
     "name": "stdout",
     "output_type": "stream",
     "text": [
      "Epoch 15/40, Accuracy: 63.34%\n",
      "New best accuracy: 63.34%. Saving model to ./best_student_hints.pth\n"
     ]
    },
    {
     "name": "stderr",
     "output_type": "stream",
     "text": [
      "                                                                                         \r"
     ]
    },
    {
     "name": "stdout",
     "output_type": "stream",
     "text": [
      "Epoch 16/40, Accuracy: 63.96%\n",
      "New best accuracy: 63.96%. Saving model to ./best_student_hints.pth\n"
     ]
    },
    {
     "name": "stderr",
     "output_type": "stream",
     "text": [
      "                                                                                         \r"
     ]
    },
    {
     "name": "stdout",
     "output_type": "stream",
     "text": [
      "Epoch 17/40, Accuracy: 64.68%\n",
      "New best accuracy: 64.68%. Saving model to ./best_student_hints.pth\n"
     ]
    },
    {
     "name": "stderr",
     "output_type": "stream",
     "text": [
      "                                                                                         \r"
     ]
    },
    {
     "name": "stdout",
     "output_type": "stream",
     "text": [
      "Epoch 18/40, Accuracy: 64.83%\n",
      "New best accuracy: 64.83%. Saving model to ./best_student_hints.pth\n"
     ]
    },
    {
     "name": "stderr",
     "output_type": "stream",
     "text": [
      "                                                                                         \r"
     ]
    },
    {
     "name": "stdout",
     "output_type": "stream",
     "text": [
      "Epoch 19/40, Accuracy: 65.38%\n",
      "New best accuracy: 65.38%. Saving model to ./best_student_hints.pth\n"
     ]
    },
    {
     "name": "stderr",
     "output_type": "stream",
     "text": [
      "                                                                                         \r"
     ]
    },
    {
     "name": "stdout",
     "output_type": "stream",
     "text": [
      "Epoch 20/40, Accuracy: 65.97%\n",
      "New best accuracy: 65.97%. Saving model to ./best_student_hints.pth\n"
     ]
    },
    {
     "name": "stderr",
     "output_type": "stream",
     "text": [
      "                                                                                         \r"
     ]
    },
    {
     "name": "stdout",
     "output_type": "stream",
     "text": [
      "Epoch 21/40, Accuracy: 66.40%\n",
      "New best accuracy: 66.40%. Saving model to ./best_student_hints.pth\n"
     ]
    },
    {
     "name": "stderr",
     "output_type": "stream",
     "text": [
      "                                                                                         \r"
     ]
    },
    {
     "name": "stdout",
     "output_type": "stream",
     "text": [
      "Epoch 22/40, Accuracy: 66.29%\n"
     ]
    },
    {
     "name": "stderr",
     "output_type": "stream",
     "text": [
      "                                                                                         \r"
     ]
    },
    {
     "name": "stdout",
     "output_type": "stream",
     "text": [
      "Epoch 23/40, Accuracy: 66.52%\n",
      "New best accuracy: 66.52%. Saving model to ./best_student_hints.pth\n"
     ]
    },
    {
     "name": "stderr",
     "output_type": "stream",
     "text": [
      "                                                                                         \r"
     ]
    },
    {
     "name": "stdout",
     "output_type": "stream",
     "text": [
      "Epoch 24/40, Accuracy: 67.11%\n",
      "New best accuracy: 67.11%. Saving model to ./best_student_hints.pth\n"
     ]
    },
    {
     "name": "stderr",
     "output_type": "stream",
     "text": [
      "                                                                                         \r"
     ]
    },
    {
     "name": "stdout",
     "output_type": "stream",
     "text": [
      "Epoch 25/40, Accuracy: 67.09%\n"
     ]
    },
    {
     "name": "stderr",
     "output_type": "stream",
     "text": [
      "                                                                                         \r"
     ]
    },
    {
     "name": "stdout",
     "output_type": "stream",
     "text": [
      "Epoch 26/40, Accuracy: 67.15%\n",
      "New best accuracy: 67.15%. Saving model to ./best_student_hints.pth\n"
     ]
    },
    {
     "name": "stderr",
     "output_type": "stream",
     "text": [
      "                                                                                         \r"
     ]
    },
    {
     "name": "stdout",
     "output_type": "stream",
     "text": [
      "Epoch 27/40, Accuracy: 67.57%\n",
      "New best accuracy: 67.57%. Saving model to ./best_student_hints.pth\n"
     ]
    },
    {
     "name": "stderr",
     "output_type": "stream",
     "text": [
      "                                                                                         \r"
     ]
    },
    {
     "name": "stdout",
     "output_type": "stream",
     "text": [
      "Epoch 28/40, Accuracy: 68.03%\n",
      "New best accuracy: 68.03%. Saving model to ./best_student_hints.pth\n"
     ]
    },
    {
     "name": "stderr",
     "output_type": "stream",
     "text": [
      "                                                                                        \r"
     ]
    },
    {
     "name": "stdout",
     "output_type": "stream",
     "text": [
      "Epoch 29/40, Accuracy: 67.76%\n"
     ]
    },
    {
     "name": "stderr",
     "output_type": "stream",
     "text": [
      "                                                                                        \r"
     ]
    },
    {
     "name": "stdout",
     "output_type": "stream",
     "text": [
      "Epoch 30/40, Accuracy: 68.15%\n",
      "New best accuracy: 68.15%. Saving model to ./best_student_hints.pth\n"
     ]
    },
    {
     "name": "stderr",
     "output_type": "stream",
     "text": [
      "                                                                                        \r"
     ]
    },
    {
     "name": "stdout",
     "output_type": "stream",
     "text": [
      "Epoch 31/40, Accuracy: 68.15%\n"
     ]
    },
    {
     "name": "stderr",
     "output_type": "stream",
     "text": [
      "                                                                                        \r"
     ]
    },
    {
     "name": "stdout",
     "output_type": "stream",
     "text": [
      "Epoch 32/40, Accuracy: 68.33%\n",
      "New best accuracy: 68.33%. Saving model to ./best_student_hints.pth\n"
     ]
    },
    {
     "name": "stderr",
     "output_type": "stream",
     "text": [
      "                                                                                        \r"
     ]
    },
    {
     "name": "stdout",
     "output_type": "stream",
     "text": [
      "Epoch 33/40, Accuracy: 68.56%\n",
      "New best accuracy: 68.56%. Saving model to ./best_student_hints.pth\n"
     ]
    },
    {
     "name": "stderr",
     "output_type": "stream",
     "text": [
      "                                                                                        \r"
     ]
    },
    {
     "name": "stdout",
     "output_type": "stream",
     "text": [
      "Epoch 34/40, Accuracy: 68.54%\n"
     ]
    },
    {
     "name": "stderr",
     "output_type": "stream",
     "text": [
      "                                                                                        \r"
     ]
    },
    {
     "name": "stdout",
     "output_type": "stream",
     "text": [
      "Epoch 35/40, Accuracy: 68.69%\n",
      "New best accuracy: 68.69%. Saving model to ./best_student_hints.pth\n"
     ]
    },
    {
     "name": "stderr",
     "output_type": "stream",
     "text": [
      "                                                                                        \r"
     ]
    },
    {
     "name": "stdout",
     "output_type": "stream",
     "text": [
      "Epoch 36/40, Accuracy: 68.92%\n",
      "New best accuracy: 68.92%. Saving model to ./best_student_hints.pth\n"
     ]
    },
    {
     "name": "stderr",
     "output_type": "stream",
     "text": [
      "                                                                                        \r"
     ]
    },
    {
     "name": "stdout",
     "output_type": "stream",
     "text": [
      "Epoch 37/40, Accuracy: 69.01%\n",
      "New best accuracy: 69.01%. Saving model to ./best_student_hints.pth\n"
     ]
    },
    {
     "name": "stderr",
     "output_type": "stream",
     "text": [
      "                                                                                        \r"
     ]
    },
    {
     "name": "stdout",
     "output_type": "stream",
     "text": [
      "Epoch 38/40, Accuracy: 68.79%\n"
     ]
    },
    {
     "name": "stderr",
     "output_type": "stream",
     "text": [
      "                                                                                        \r"
     ]
    },
    {
     "name": "stdout",
     "output_type": "stream",
     "text": [
      "Epoch 39/40, Accuracy: 68.86%\n"
     ]
    },
    {
     "name": "stderr",
     "output_type": "stream",
     "text": [
      "                                                                                        \r"
     ]
    },
    {
     "name": "stdout",
     "output_type": "stream",
     "text": [
      "Epoch 40/40, Accuracy: 68.85%\n",
      "\n",
      "Finished Training for Hints. Best Accuracy: 69.01%\n",
      "\n",
      "--- Final Result for Hint-based Distillation ---\n",
      "Hints Best Accuracy: 69.01%\n"
     ]
    }
   ],
   "source": [
    "import torch\n",
    "import torch.nn as nn\n",
    "import torch.optim as optim\n",
    "import torch.nn.functional as F\n",
    "import torchvision\n",
    "import torchvision.transforms as transforms\n",
    "from tqdm import tqdm\n",
    "import os\n",
    "torch.cuda.empty_cache()\n",
    "\n",
    "# --- UTILITY FUNCTIONS & DATA SETUP ---\n",
    "def test(model, test_loader, device):\n",
    "    model.eval()\n",
    "    correct, total = 0, 0\n",
    "    with torch.no_grad():\n",
    "        for inputs, labels in test_loader:\n",
    "            inputs, labels = inputs.to(device), labels.to(device)\n",
    "            outputs, _ = model(inputs) # Model will now return features\n",
    "            _, predicted = torch.max(outputs.data, 1)\n",
    "            total += labels.size(0)\n",
    "            correct += (predicted == labels).sum().item()\n",
    "    return 100 * correct / total\n",
    "\n",
    "device = torch.device(\"cuda\" if torch.cuda.is_available() else \"cpu\")\n",
    "print(f\"Using device: {device}\")\n",
    "transform_train = transforms.Compose([\n",
    "    transforms.RandomCrop(32, padding=4),\n",
    "    transforms.RandomHorizontalFlip(),\n",
    "    transforms.ToTensor(),\n",
    "    transforms.Normalize((0.5071, 0.4867, 0.4408), (0.2675, 0.2565, 0.2761)),\n",
    "])\n",
    "transform_test = transforms.Compose([\n",
    "    transforms.ToTensor(),\n",
    "    transforms.Normalize((0.5071, 0.4867, 0.4408), (0.2675, 0.2565, 0.2761)),\n",
    "])\n",
    "\n",
    "trainset = torchvision.datasets.CIFAR100(root='./data', train=True, download=True, transform=transform_train)\n",
    "trainloader = torch.utils.data.DataLoader(trainset, batch_size=128, shuffle=True, num_workers=0)\n",
    "testset = torchvision.datasets.CIFAR100(root='./data', train=False, download=True, transform=transform_test)\n",
    "testloader = torch.utils.data.DataLoader(testset, batch_size=100, shuffle=False, num_workers=0)\n",
    "\n",
    "\n",
    "# --- WRAPPER MODELS TO EXTRACT FEATURES ---\n",
    "class VGG11_Hint(nn.Module):\n",
    "    def __init__(self):\n",
    "        super(VGG11_Hint, self).__init__()\n",
    "        base_model = torchvision.models.vgg11(weights=None, num_classes=100)\n",
    "        # We define hint_layer using a specific index from the features module\n",
    "        self.features = base_model.features\n",
    "        self.hint_layer_index = 15 # After 4th conv block\n",
    "        self.avgpool = base_model.avgpool\n",
    "        self.classifier = base_model.classifier\n",
    "\n",
    "    def forward(self, x):\n",
    "        hint_features = self.features[:self.hint_layer_index + 1](x)\n",
    "        out = self.features[self.hint_layer_index + 1:](hint_features)\n",
    "        out = self.avgpool(out)\n",
    "        out = torch.flatten(out, 1)\n",
    "        logits = self.classifier(out)\n",
    "        return logits, hint_features\n",
    "\n",
    "# The VGG16_Guided wrapper is no longer needed with the new loading strategy\n",
    "# but we define which layer we want to extract features from\n",
    "TEACHER_GUIDED_LAYER_INDEX = 23 # After 4th conv block in VGG16\n",
    "\n",
    "\n",
    "# --- LOAD TEACHER (CORRECTED METHOD) ---\n",
    "teacher_save_path = './best_teacher_vgg16_cifar100.pth'\n",
    "if not os.path.exists(teacher_save_path):\n",
    "    print(\"FATAL ERROR: Teacher model not found.\")\n",
    "    exit()\n",
    "\n",
    "# Step 1: Create a standard VGG16 model, which has the correct architecture\n",
    "teacher_model = torchvision.models.vgg16(weights=None, num_classes=100).to(device)\n",
    "\n",
    "# Step 2: Load the state_dict into this correctly structured model\n",
    "teacher_model.load_state_dict(torch.load(teacher_save_path))\n",
    "teacher_model.eval()\n",
    "print(\"Teacher model loaded successfully.\")\n",
    "\n",
    "# --- LOSS FUNCTIONS ---\n",
    "def loss_fn_kd(outputs, labels, teacher_outputs, alpha, temperature):\n",
    "    hard_loss = F.cross_entropy(outputs, labels)\n",
    "    soft_loss = nn.KLDivLoss(reduction='batchmean')(F.log_softmax(outputs / temperature, dim=1),\n",
    "                                                   F.softmax(teacher_outputs / temperature, dim=1)) * (temperature * temperature)\n",
    "    return alpha * hard_loss + (1 - alpha) * soft_loss\n",
    "\n",
    "def hint_loss_function(student_hint, teacher_guided, regressor):\n",
    "    student_regr = regressor(student_hint)\n",
    "    return F.mse_loss(student_regr, teacher_guided)\n",
    "\n",
    "# --- TRAINING LOOP ---\n",
    "def train_student_hints(student, regressor, train_loader, optimizer, epoch, teacher, device, hint_lambda):\n",
    "    student.train()\n",
    "    regressor.train()\n",
    "    progress = tqdm(train_loader, desc=f\"Student Epoch {epoch+1} [Hints]\", leave=False)\n",
    "\n",
    "    # Hook to capture teacher's intermediate features\n",
    "    teacher_features = {}\n",
    "    def get_teacher_features(name):\n",
    "        def hook(model, input, output):\n",
    "            teacher_features[name] = output.detach()\n",
    "        return hook\n",
    "    \n",
    "    teacher.features[TEACHER_GUIDED_LAYER_INDEX].register_forward_hook(get_teacher_features('guided'))\n",
    "\n",
    "    for inputs, labels in progress:\n",
    "        inputs, labels = inputs.to(device), labels.to(device)\n",
    "        optimizer.zero_grad()\n",
    "        \n",
    "        # Student forward pass\n",
    "        student_logits, student_hint_features = student(inputs)\n",
    "        \n",
    "        # Teacher forward pass (will trigger the hook)\n",
    "        with torch.no_grad():\n",
    "            teacher_logits = teacher(inputs)\n",
    "            teacher_guided_features = teacher_features['guided']\n",
    "\n",
    "        # Standard Knowledge Distillation Loss\n",
    "        kd_loss = loss_fn_kd(student_logits, labels, teacher_logits, alpha=0.5, temperature=4.0)\n",
    "        # Hint Loss\n",
    "        hint_loss = hint_loss_function(student_hint_features, teacher_guided_features, regressor)\n",
    "        \n",
    "        # Total Loss\n",
    "        loss = kd_loss + (hint_lambda * hint_loss)\n",
    "        \n",
    "        loss.backward()\n",
    "        optimizer.step()\n",
    "        progress.set_postfix(loss=f\"{loss.item():.4f}\")\n",
    "\n",
    "# --- EXPERIMENT RUNNER ---\n",
    "def run_hints_experiment(teacher_model, num_epochs=200):\n",
    "    print(\"\\n--- Running Experiment: HINT-BASED DISTILLATION (HINTS) ---\")\n",
    "    student_model = VGG11_Hint().to(device)\n",
    "    student_save_path = './best_student_hints.pth'\n",
    "\n",
    "    # Student VGG11 hint (after block 4) is [B, 512, 4, 4]\n",
    "    # Teacher VGG16 guided (after block 4) is [B, 512, 4, 4]\n",
    "    regressor = nn.Conv2d(512, 512, kernel_size=1).to(device)\n",
    "\n",
    "    # --- PROACTIVE FIX: REDUCED LEARNING RATE ---\n",
    "    # The combination of a high LR and a large hint_lambda can cause instability.\n",
    "    # Reducing the LR to 0.01 is a much safer starting point.\n",
    "    optimizer = optim.SGD(\n",
    "        list(student_model.parameters()) + list(regressor.parameters()),\n",
    "        lr=0.01, momentum=0.9, weight_decay=5e-4\n",
    "    )\n",
    "    scheduler = optim.lr_scheduler.CosineAnnealingLR(optimizer, T_max=num_epochs)\n",
    "    \n",
    "    best_acc = 0.0\n",
    "    HINT_LAMBDA = 100.0 # This weight for the hint loss often needs tuning\n",
    "\n",
    "    for epoch in range(num_epochs):\n",
    "        train_student_hints(student_model, regressor, trainloader, optimizer, epoch, teacher_model, device, HINT_LAMBDA)\n",
    "        acc = test(student_model, testloader, device)\n",
    "        print(f\"Epoch {epoch+1}/{num_epochs}, Accuracy: {acc:.2f}%\")\n",
    "        \n",
    "        if acc > best_acc:\n",
    "            best_acc = acc\n",
    "            print(f\"New best accuracy: {best_acc:.2f}%. Saving model to {student_save_path}\")\n",
    "            # Save only the student's weights, not the wrapper\n",
    "            torch.save(student_model.state_dict(), student_save_path)\n",
    "            \n",
    "        scheduler.step()\n",
    "        \n",
    "    print(f\"\\nFinished Training for Hints. Best Accuracy: {best_acc:.2f}%\")\n",
    "    return best_acc\n",
    "\n",
    "\n",
    "STUDENT_EPOCHS = 40 \n",
    "hints_accuracy = run_hints_experiment(teacher_model, STUDENT_EPOCHS)\n",
    "print(f\"\\n--- Final Result for Hint-based Distillation ---\")\n",
    "print(f\"Hints Best Accuracy: {hints_accuracy:.2f}%\")"
   ]
  },
  {
   "cell_type": "code",
   "execution_count": 7,
   "id": "74539d49",
   "metadata": {},
   "outputs": [
    {
     "name": "stdout",
     "output_type": "stream",
     "text": [
      "Using device: cuda\n",
      "Files already downloaded and verified\n",
      "Files already downloaded and verified\n"
     ]
    },
    {
     "name": "stderr",
     "output_type": "stream",
     "text": [
      "C:\\Users\\xylic\\AppData\\Local\\Temp\\ipykernel_7496\\1158196710.py:104: FutureWarning: You are using `torch.load` with `weights_only=False` (the current default value), which uses the default pickle module implicitly. It is possible to construct malicious pickle data which will execute arbitrary code during unpickling (See https://github.com/pytorch/pytorch/blob/main/SECURITY.md#untrusted-models for more details). In a future release, the default value for `weights_only` will be flipped to `True`. This limits the functions that could be executed during unpickling. Arbitrary objects will no longer be allowed to be loaded via this mode unless they are explicitly allowlisted by the user via `torch.serialization.add_safe_globals`. We recommend you start setting `weights_only=True` for any use case where you don't have full control of the loaded file. Please open an issue on GitHub for any issues related to this experimental feature.\n",
      "  base_teacher_model.load_state_dict(torch.load(teacher_save_path))\n"
     ]
    },
    {
     "name": "stdout",
     "output_type": "stream",
     "text": [
      "Teacher model and projector loaded successfully.\n",
      "\n",
      "--- Running Experiment: CONTRASTIVE REPRESENTATION DISTILLATION (CRD) ---\n"
     ]
    },
    {
     "name": "stderr",
     "output_type": "stream",
     "text": [
      "                                                                                      \r"
     ]
    },
    {
     "name": "stdout",
     "output_type": "stream",
     "text": [
      "Epoch 1/40, Accuracy: 15.36%\n",
      "New best accuracy: 15.36%. Saving model to ./best_student_crd.pth\n"
     ]
    },
    {
     "name": "stderr",
     "output_type": "stream",
     "text": [
      "                                                                                      \r"
     ]
    },
    {
     "name": "stdout",
     "output_type": "stream",
     "text": [
      "Epoch 2/40, Accuracy: 24.32%\n",
      "New best accuracy: 24.32%. Saving model to ./best_student_crd.pth\n"
     ]
    },
    {
     "name": "stderr",
     "output_type": "stream",
     "text": [
      "                                                                                     \r"
     ]
    },
    {
     "name": "stdout",
     "output_type": "stream",
     "text": [
      "Epoch 3/40, Accuracy: 31.60%\n",
      "New best accuracy: 31.60%. Saving model to ./best_student_crd.pth\n"
     ]
    },
    {
     "name": "stderr",
     "output_type": "stream",
     "text": [
      "                                                                                     \r"
     ]
    },
    {
     "name": "stdout",
     "output_type": "stream",
     "text": [
      "Epoch 4/40, Accuracy: 38.17%\n",
      "New best accuracy: 38.17%. Saving model to ./best_student_crd.pth\n"
     ]
    },
    {
     "name": "stderr",
     "output_type": "stream",
     "text": [
      "                                                                                     \r"
     ]
    },
    {
     "name": "stdout",
     "output_type": "stream",
     "text": [
      "Epoch 5/40, Accuracy: 41.89%\n",
      "New best accuracy: 41.89%. Saving model to ./best_student_crd.pth\n"
     ]
    },
    {
     "name": "stderr",
     "output_type": "stream",
     "text": [
      "                                                                                     \r"
     ]
    },
    {
     "name": "stdout",
     "output_type": "stream",
     "text": [
      "Epoch 6/40, Accuracy: 44.03%\n",
      "New best accuracy: 44.03%. Saving model to ./best_student_crd.pth\n"
     ]
    },
    {
     "name": "stderr",
     "output_type": "stream",
     "text": [
      "                                                                                     \r"
     ]
    },
    {
     "name": "stdout",
     "output_type": "stream",
     "text": [
      "Epoch 7/40, Accuracy: 48.72%\n",
      "New best accuracy: 48.72%. Saving model to ./best_student_crd.pth\n"
     ]
    },
    {
     "name": "stderr",
     "output_type": "stream",
     "text": [
      "                                                                                     \r"
     ]
    },
    {
     "name": "stdout",
     "output_type": "stream",
     "text": [
      "Epoch 8/40, Accuracy: 51.35%\n",
      "New best accuracy: 51.35%. Saving model to ./best_student_crd.pth\n"
     ]
    },
    {
     "name": "stderr",
     "output_type": "stream",
     "text": [
      "                                                                                     \r"
     ]
    },
    {
     "name": "stdout",
     "output_type": "stream",
     "text": [
      "Epoch 9/40, Accuracy: 52.06%\n",
      "New best accuracy: 52.06%. Saving model to ./best_student_crd.pth\n"
     ]
    },
    {
     "name": "stderr",
     "output_type": "stream",
     "text": [
      "                                                                                      \r"
     ]
    },
    {
     "name": "stdout",
     "output_type": "stream",
     "text": [
      "Epoch 10/40, Accuracy: 54.38%\n",
      "New best accuracy: 54.38%. Saving model to ./best_student_crd.pth\n"
     ]
    },
    {
     "name": "stderr",
     "output_type": "stream",
     "text": [
      "                                                                                      \r"
     ]
    },
    {
     "name": "stdout",
     "output_type": "stream",
     "text": [
      "Epoch 11/40, Accuracy: 54.95%\n",
      "New best accuracy: 54.95%. Saving model to ./best_student_crd.pth\n"
     ]
    },
    {
     "name": "stderr",
     "output_type": "stream",
     "text": [
      "                                                                                      \r"
     ]
    },
    {
     "name": "stdout",
     "output_type": "stream",
     "text": [
      "Epoch 12/40, Accuracy: 57.23%\n",
      "New best accuracy: 57.23%. Saving model to ./best_student_crd.pth\n"
     ]
    },
    {
     "name": "stderr",
     "output_type": "stream",
     "text": [
      "                                                                                      \r"
     ]
    },
    {
     "name": "stdout",
     "output_type": "stream",
     "text": [
      "Epoch 13/40, Accuracy: 57.84%\n",
      "New best accuracy: 57.84%. Saving model to ./best_student_crd.pth\n"
     ]
    },
    {
     "name": "stderr",
     "output_type": "stream",
     "text": [
      "                                                                                      \r"
     ]
    },
    {
     "name": "stdout",
     "output_type": "stream",
     "text": [
      "Epoch 14/40, Accuracy: 59.07%\n",
      "New best accuracy: 59.07%. Saving model to ./best_student_crd.pth\n"
     ]
    },
    {
     "name": "stderr",
     "output_type": "stream",
     "text": [
      "                                                                                      \r"
     ]
    },
    {
     "name": "stdout",
     "output_type": "stream",
     "text": [
      "Epoch 15/40, Accuracy: 59.71%\n",
      "New best accuracy: 59.71%. Saving model to ./best_student_crd.pth\n"
     ]
    },
    {
     "name": "stderr",
     "output_type": "stream",
     "text": [
      "                                                                                      \r"
     ]
    },
    {
     "name": "stdout",
     "output_type": "stream",
     "text": [
      "Epoch 16/40, Accuracy: 60.99%\n",
      "New best accuracy: 60.99%. Saving model to ./best_student_crd.pth\n"
     ]
    },
    {
     "name": "stderr",
     "output_type": "stream",
     "text": [
      "                                                                                      \r"
     ]
    },
    {
     "name": "stdout",
     "output_type": "stream",
     "text": [
      "Epoch 17/40, Accuracy: 61.32%\n",
      "New best accuracy: 61.32%. Saving model to ./best_student_crd.pth\n"
     ]
    },
    {
     "name": "stderr",
     "output_type": "stream",
     "text": [
      "                                                                                      \r"
     ]
    },
    {
     "name": "stdout",
     "output_type": "stream",
     "text": [
      "Epoch 18/40, Accuracy: 62.17%\n",
      "New best accuracy: 62.17%. Saving model to ./best_student_crd.pth\n"
     ]
    },
    {
     "name": "stderr",
     "output_type": "stream",
     "text": [
      "                                                                                      \r"
     ]
    },
    {
     "name": "stdout",
     "output_type": "stream",
     "text": [
      "Epoch 19/40, Accuracy: 62.45%\n",
      "New best accuracy: 62.45%. Saving model to ./best_student_crd.pth\n"
     ]
    },
    {
     "name": "stderr",
     "output_type": "stream",
     "text": [
      "                                                                                      \r"
     ]
    },
    {
     "name": "stdout",
     "output_type": "stream",
     "text": [
      "Epoch 20/40, Accuracy: 62.17%\n"
     ]
    },
    {
     "name": "stderr",
     "output_type": "stream",
     "text": [
      "                                                                                      \r"
     ]
    },
    {
     "name": "stdout",
     "output_type": "stream",
     "text": [
      "Epoch 21/40, Accuracy: 63.48%\n",
      "New best accuracy: 63.48%. Saving model to ./best_student_crd.pth\n"
     ]
    },
    {
     "name": "stderr",
     "output_type": "stream",
     "text": [
      "                                                                                      \r"
     ]
    },
    {
     "name": "stdout",
     "output_type": "stream",
     "text": [
      "Epoch 22/40, Accuracy: 63.78%\n",
      "New best accuracy: 63.78%. Saving model to ./best_student_crd.pth\n"
     ]
    },
    {
     "name": "stderr",
     "output_type": "stream",
     "text": [
      "                                                                                      \r"
     ]
    },
    {
     "name": "stdout",
     "output_type": "stream",
     "text": [
      "Epoch 23/40, Accuracy: 64.14%\n",
      "New best accuracy: 64.14%. Saving model to ./best_student_crd.pth\n"
     ]
    },
    {
     "name": "stderr",
     "output_type": "stream",
     "text": [
      "                                                                                      \r"
     ]
    },
    {
     "name": "stdout",
     "output_type": "stream",
     "text": [
      "Epoch 24/40, Accuracy: 64.11%\n"
     ]
    },
    {
     "name": "stderr",
     "output_type": "stream",
     "text": [
      "                                                                                      \r"
     ]
    },
    {
     "name": "stdout",
     "output_type": "stream",
     "text": [
      "Epoch 25/40, Accuracy: 64.26%\n",
      "New best accuracy: 64.26%. Saving model to ./best_student_crd.pth\n"
     ]
    },
    {
     "name": "stderr",
     "output_type": "stream",
     "text": [
      "                                                                                      \r"
     ]
    },
    {
     "name": "stdout",
     "output_type": "stream",
     "text": [
      "Epoch 26/40, Accuracy: 64.83%\n",
      "New best accuracy: 64.83%. Saving model to ./best_student_crd.pth\n"
     ]
    },
    {
     "name": "stderr",
     "output_type": "stream",
     "text": [
      "                                                                                      \r"
     ]
    },
    {
     "name": "stdout",
     "output_type": "stream",
     "text": [
      "Epoch 27/40, Accuracy: 64.85%\n",
      "New best accuracy: 64.85%. Saving model to ./best_student_crd.pth\n"
     ]
    },
    {
     "name": "stderr",
     "output_type": "stream",
     "text": [
      "                                                                                      \r"
     ]
    },
    {
     "name": "stdout",
     "output_type": "stream",
     "text": [
      "Epoch 28/40, Accuracy: 65.01%\n",
      "New best accuracy: 65.01%. Saving model to ./best_student_crd.pth\n"
     ]
    },
    {
     "name": "stderr",
     "output_type": "stream",
     "text": [
      "                                                                                      \r"
     ]
    },
    {
     "name": "stdout",
     "output_type": "stream",
     "text": [
      "Epoch 29/40, Accuracy: 64.93%\n"
     ]
    },
    {
     "name": "stderr",
     "output_type": "stream",
     "text": [
      "                                                                                      \r"
     ]
    },
    {
     "name": "stdout",
     "output_type": "stream",
     "text": [
      "Epoch 30/40, Accuracy: 65.71%\n",
      "New best accuracy: 65.71%. Saving model to ./best_student_crd.pth\n"
     ]
    },
    {
     "name": "stderr",
     "output_type": "stream",
     "text": [
      "                                                                                      \r"
     ]
    },
    {
     "name": "stdout",
     "output_type": "stream",
     "text": [
      "Epoch 31/40, Accuracy: 65.38%\n"
     ]
    },
    {
     "name": "stderr",
     "output_type": "stream",
     "text": [
      "                                                                                      \r"
     ]
    },
    {
     "name": "stdout",
     "output_type": "stream",
     "text": [
      "Epoch 32/40, Accuracy: 65.53%\n"
     ]
    },
    {
     "name": "stderr",
     "output_type": "stream",
     "text": [
      "                                                                                      \r"
     ]
    },
    {
     "name": "stdout",
     "output_type": "stream",
     "text": [
      "Epoch 33/40, Accuracy: 65.62%\n"
     ]
    },
    {
     "name": "stderr",
     "output_type": "stream",
     "text": [
      "                                                                                      \r"
     ]
    },
    {
     "name": "stdout",
     "output_type": "stream",
     "text": [
      "Epoch 34/40, Accuracy: 65.80%\n",
      "New best accuracy: 65.80%. Saving model to ./best_student_crd.pth\n"
     ]
    },
    {
     "name": "stderr",
     "output_type": "stream",
     "text": [
      "                                                                                      \r"
     ]
    },
    {
     "name": "stdout",
     "output_type": "stream",
     "text": [
      "Epoch 35/40, Accuracy: 65.75%\n"
     ]
    },
    {
     "name": "stderr",
     "output_type": "stream",
     "text": [
      "                                                                                      \r"
     ]
    },
    {
     "name": "stdout",
     "output_type": "stream",
     "text": [
      "Epoch 36/40, Accuracy: 65.96%\n",
      "New best accuracy: 65.96%. Saving model to ./best_student_crd.pth\n"
     ]
    },
    {
     "name": "stderr",
     "output_type": "stream",
     "text": [
      "                                                                                      \r"
     ]
    },
    {
     "name": "stdout",
     "output_type": "stream",
     "text": [
      "Epoch 37/40, Accuracy: 65.84%\n"
     ]
    },
    {
     "name": "stderr",
     "output_type": "stream",
     "text": [
      "                                                                                      \r"
     ]
    },
    {
     "name": "stdout",
     "output_type": "stream",
     "text": [
      "Epoch 38/40, Accuracy: 65.85%\n"
     ]
    },
    {
     "name": "stderr",
     "output_type": "stream",
     "text": [
      "                                                                                      \r"
     ]
    },
    {
     "name": "stdout",
     "output_type": "stream",
     "text": [
      "Epoch 39/40, Accuracy: 65.89%\n"
     ]
    },
    {
     "name": "stderr",
     "output_type": "stream",
     "text": [
      "                                                                                      \r"
     ]
    },
    {
     "name": "stdout",
     "output_type": "stream",
     "text": [
      "Epoch 40/40, Accuracy: 65.86%\n",
      "\n",
      "Finished Training for CRD. Best Accuracy: 65.96%\n",
      "\n",
      "--- Final Result for Contrastive Distillation ---\n",
      "CRD Best Accuracy: 65.96%\n"
     ]
    }
   ],
   "source": [
    "import torch\n",
    "import torch.nn as nn\n",
    "import torch.optim as optim\n",
    "import torch.nn.functional as F\n",
    "import torchvision\n",
    "import torchvision.transforms as transforms\n",
    "from tqdm import tqdm\n",
    "import os\n",
    "\n",
    "torch.cuda.empty_cache()\n",
    "\n",
    "# --- UTILITY FUNCTIONS & DATA SETUP (No changes) ---\n",
    "def test(model, test_loader, device):\n",
    "    student_wrapper = model\n",
    "    student_wrapper.eval()\n",
    "    correct, total = 0, 0\n",
    "    with torch.no_grad():\n",
    "        for inputs, labels in test_loader:\n",
    "            inputs, labels = inputs.to(device), labels.to(device)\n",
    "            _, outputs = student_wrapper.student(inputs)\n",
    "            _, predicted = torch.max(outputs.data, 1)\n",
    "            total += labels.size(0)\n",
    "            correct += (predicted == labels).sum().item()\n",
    "    return 100 * correct / total\n",
    "\n",
    "device = torch.device(\"cuda\" if torch.cuda.is_available() else \"cpu\")\n",
    "print(f\"Using device: {device}\")\n",
    "transform_train = transforms.Compose([\n",
    "    transforms.RandomCrop(32, padding=4), transforms.RandomHorizontalFlip(), transforms.ToTensor(),\n",
    "    transforms.Normalize((0.5071, 0.4867, 0.4408), (0.2675, 0.2565, 0.2761)),\n",
    "])\n",
    "transform_test = transforms.Compose([\n",
    "    transforms.ToTensor(), transforms.Normalize((0.5071, 0.4867, 0.4408), (0.2675, 0.2565, 0.2761)),\n",
    "])\n",
    "trainset = torchvision.datasets.CIFAR100(root='./data', train=True, download=True, transform=transform_train)\n",
    "trainloader = torch.utils.data.DataLoader(trainset, batch_size=128, shuffle=True, num_workers=0)\n",
    "testset = torchvision.datasets.CIFAR100(root='./data', train=False, download=True, transform=transform_test)\n",
    "testloader = torch.utils.data.DataLoader(testset, batch_size=100, shuffle=False, num_workers=0)\n",
    "\n",
    "\n",
    "# --- THE FIX IS IN THIS MODULE ---\n",
    "class VGG_Extractor(nn.Module):\n",
    "    def __init__(self, vgg_model):\n",
    "        super(VGG_Extractor, self).__init__()\n",
    "        self.features = vgg_model.features\n",
    "        self.avgpool = vgg_model.avgpool\n",
    "        self.classifier = vgg_model.classifier\n",
    "        self.feat_dim = 512 # The true feature dimension before the classifier\n",
    "\n",
    "    def forward(self, x):\n",
    "        # Extract features from the convolutional backbone\n",
    "        pre_pool_feat = self.features(x)\n",
    "        \n",
    "        # This is the feature vector we want for CRD.\n",
    "        # Its shape is (B, 512, 1, 1) for CIFAR, so flattening gives (B, 512).\n",
    "        crd_feat = torch.flatten(pre_pool_feat, 1)\n",
    "        \n",
    "        # Now, continue the original forward pass to get the logits,\n",
    "        # even if the architecture is flawed (as it is for the teacher).\n",
    "        post_pool_feat = self.avgpool(pre_pool_feat)\n",
    "        flat_feat_for_classifier = torch.flatten(post_pool_feat, 1)\n",
    "        logits = self.classifier(flat_feat_for_classifier)\n",
    "        \n",
    "        # Return the CORRECT feature vector and the final logits\n",
    "        return crd_feat, logits\n",
    "\n",
    "class ProjectionHead(nn.Module):\n",
    "    def __init__(self, in_dim, out_dim=128):\n",
    "        super(ProjectionHead, self).__init__()\n",
    "        self.head = nn.Sequential(\n",
    "            nn.Linear(in_dim, in_dim), nn.ReLU(inplace=True), nn.Linear(in_dim, out_dim)\n",
    "        )\n",
    "    def forward(self, x):\n",
    "        return F.normalize(self.head(x), dim=1)\n",
    "\n",
    "class CrdStudentWrapper(nn.Module):\n",
    "    def __init__(self):\n",
    "        super(CrdStudentWrapper, self).__init__()\n",
    "        base_student = torchvision.models.vgg11(weights=None, num_classes=100)\n",
    "        base_student.avgpool = nn.AdaptiveAvgPool2d((1, 1))\n",
    "        base_student.classifier[0] = nn.Linear(512, 4096)\n",
    "        self.student = VGG_Extractor(base_student)\n",
    "        self.projector = ProjectionHead(in_dim=self.student.feat_dim)\n",
    "\n",
    "    def forward(self, x):\n",
    "        feat, logits = self.student(x)\n",
    "        proj_feat = self.projector(feat)\n",
    "        return proj_feat, logits\n",
    "\n",
    "def contrastive_loss(student_proj, teacher_proj, temperature=0.07):\n",
    "    batch_size = student_proj.shape[0]\n",
    "    sim_s_t = torch.matmul(student_proj, teacher_proj.T) / temperature\n",
    "    sim_t_s = torch.matmul(teacher_proj, student_proj.T) / temperature\n",
    "    labels = torch.arange(batch_size).long().to(student_proj.device)\n",
    "    loss = F.cross_entropy(sim_s_t, labels) + F.cross_entropy(sim_t_s, labels)\n",
    "    return loss\n",
    "\n",
    "# --- LOAD TEACHER ---\n",
    "teacher_save_path = './best_teacher_vgg16_cifar100.pth'\n",
    "if not os.path.exists(teacher_save_path):\n",
    "    print(\"FATAL ERROR: Teacher model not found.\")\n",
    "    exit()\n",
    "base_teacher_model = torchvision.models.vgg16(weights=None, num_classes=100)\n",
    "base_teacher_model.load_state_dict(torch.load(teacher_save_path))\n",
    "teacher_model = VGG_Extractor(base_teacher_model).to(device)\n",
    "teacher_projector = ProjectionHead(in_dim=teacher_model.feat_dim).to(device)\n",
    "teacher_model.eval()\n",
    "teacher_projector.eval()\n",
    "print(\"Teacher model and projector loaded successfully.\")\n",
    "\n",
    "# --- LOSS & TRAINING DEFINITIONS ---\n",
    "def loss_fn_kd(outputs, labels, teacher_outputs, alpha, temperature):\n",
    "    hard_loss = F.cross_entropy(outputs, labels)\n",
    "    soft_loss = nn.KLDivLoss(reduction='batchmean')(F.log_softmax(outputs / temperature, dim=1),\n",
    "                                                   F.softmax(teacher_outputs / temperature, dim=1)) * (temperature * temperature)\n",
    "    return alpha * hard_loss + (1 - alpha) * soft_loss\n",
    "\n",
    "def train_student_crd(student_wrapper, train_loader, optimizer, epoch, teacher, teacher_proj, device, crd_lambda):\n",
    "    student_wrapper.train()\n",
    "    progress = tqdm(train_loader, desc=f\"Student Epoch {epoch+1} [CRD]\", leave=False)\n",
    "\n",
    "    for inputs, labels in progress:\n",
    "        inputs, labels = inputs.to(device), labels.to(device)\n",
    "        optimizer.zero_grad()\n",
    "        student_proj_feat, student_logits = student_wrapper(inputs)\n",
    "        \n",
    "        with torch.no_grad():\n",
    "            teacher_feat, teacher_logits = teacher(inputs)\n",
    "            teacher_proj_feat = teacher_proj(teacher_feat)\n",
    "\n",
    "        kd_loss = loss_fn_kd(student_logits, labels, teacher_logits, alpha=0.5, temperature=4.0)\n",
    "        crd_loss = contrastive_loss(student_proj_feat, teacher_proj_feat, temperature=0.1)\n",
    "        loss = kd_loss + (crd_lambda * crd_loss)\n",
    "        \n",
    "        loss.backward()\n",
    "        optimizer.step()\n",
    "        progress.set_postfix(loss=f\"{loss.item():.4f}\")\n",
    "\n",
    "# --- EXPERIMENT RUNNER ---\n",
    "def run_crd_experiment(teacher_model, teacher_projector, num_epochs=200):\n",
    "    print(\"\\n--- Running Experiment: CONTRASTIVE REPRESENTATION DISTILLATION (CRD) ---\")\n",
    "    student_wrapper = CrdStudentWrapper().to(device)\n",
    "    student_save_path = './best_student_crd.pth'\n",
    "\n",
    "    optimizer = optim.SGD(student_wrapper.parameters(), lr=0.01, momentum=0.9, weight_decay=5e-4)\n",
    "    scheduler = optim.lr_scheduler.CosineAnnealingLR(optimizer, T_max=num_epochs)\n",
    "    \n",
    "    best_acc = 0.0\n",
    "    CRD_LAMBDA = 0.8\n",
    "    for epoch in range(num_epochs):\n",
    "        train_student_crd(student_wrapper, trainloader, optimizer, epoch, teacher_model, teacher_projector, device, CRD_LAMBDA)\n",
    "        acc = test(student_wrapper, testloader, device)\n",
    "        print(f\"Epoch {epoch+1}/{num_epochs}, Accuracy: {acc:.2f}%\")\n",
    "        \n",
    "        if acc > best_acc:\n",
    "            best_acc = acc\n",
    "            print(f\"New best accuracy: {best_acc:.2f}%. Saving model to {student_save_path}\")\n",
    "            torch.save(student_wrapper.student.state_dict(), student_save_path)\n",
    "            \n",
    "        scheduler.step()\n",
    "        \n",
    "    print(f\"\\nFinished Training for CRD. Best Accuracy: {best_acc:.2f}%\")\n",
    "    return best_acc\n",
    "\n",
    "# --- MAIN EXECUTION ---\n",
    "STUDENT_EPOCHS = 40\n",
    "crd_accuracy = run_crd_experiment(teacher_model, teacher_projector, STUDENT_EPOCHS)\n",
    "print(f\"\\n--- Final Result for Contrastive Distillation ---\")\n",
    "print(f\"CRD Best Accuracy: {crd_accuracy:.2f}%\")"
   ]
  }
 ],
 "metadata": {
  "kernelspec": {
   "display_name": "base",
   "language": "python",
   "name": "python3"
  },
  "language_info": {
   "codemirror_mode": {
    "name": "ipython",
    "version": 3
   },
   "file_extension": ".py",
   "mimetype": "text/x-python",
   "name": "python",
   "nbconvert_exporter": "python",
   "pygments_lexer": "ipython3",
   "version": "3.12.7"
  }
 },
 "nbformat": 4,
 "nbformat_minor": 5
}
